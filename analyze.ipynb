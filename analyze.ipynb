{
 "cells": [
  {
   "cell_type": "markdown",
   "metadata": {},
   "source": [
    "# Docker BRATS results"
   ]
  },
  {
   "cell_type": "code",
   "execution_count": 197,
   "metadata": {},
   "outputs": [],
   "source": [
    "import numpy as np\n",
    "import matplotlib.pyplot as plt\n",
    "import pandas\n",
    "import os\n",
    "import seaborn as sb\n",
    "from pprint import pprint\n",
    "%matplotlib inline"
   ]
  },
  {
   "cell_type": "code",
   "execution_count": 207,
   "metadata": {},
   "outputs": [],
   "source": [
    "# set up the variables and environment\n",
    "met = 'at'\n",
    "#set baseline variables for export and stuff\n",
    "res = 400 # dpi value for image export\n",
    "form = 'png' #image format for matplotlib exports\n",
    "filename = met + '_dice_scores.csv'\n",
    "#rename colums to their 3 character IDs\n",
    "candidates = {\n",
    "        'aju' : 'tumor_istb_aj_class.nii',\n",
    "        'aca' : 'data_data_prediction.nii.gz',\n",
    "        'kch' : 'tumor_qtimlab_class.nii.gz',\n",
    "        'ekr' : 'tumor_00000000_class.nii.gz',\n",
    "        'aka' : 'tumor_kamleshp_class.nii.gz',\n",
    "        'mag' : 'tumor_magnrbm_class.nii',\n",
    "        'sse' : 'tumor_saras_tb_class.nii.gz',\n",
    "        'rsa': 'tumor_gevaertlab_class.nii',\n",
    "        'gwa' : 'brats_dc_brats2016_test_klhd_pat101_3.nii.gz',\n",
    "        'ise' : 'tumor_brats2017_isensee_class.nii.gz',\n",
    "        'mav' : 'majvote_fusion.nii.gz',\n",
    "        'none' : 'default'\n",
    "    }\n",
    "#invert the indices to assign the proper labels\n",
    "inv_cand = {v: k for k, v in candidates.items()}"
   ]
  },
  {
   "cell_type": "code",
   "execution_count": 208,
   "metadata": {},
   "outputs": [],
   "source": [
    "#import data\n",
    "data = pandas.read_csv(filename)\n",
    "#preprocess data\n",
    "#data = data.drop('Unnamed: 0', axis=1)\n",
    "#data = data.rename(inv_cand, axis=1)"
   ]
  },
  {
   "cell_type": "code",
   "execution_count": 209,
   "metadata": {},
   "outputs": [],
   "source": [
    "# remove every 2nd row (unnecessary column heads)\n",
    "clean = data.iloc[::2]\n",
    "# remove patient name column\n",
    "clean = clean.drop('patient', axis=1)\n",
    "# rename columns to 3 digit ID\n",
    "clean = clean.rename(inv_cand, axis=1)\n",
    "clean.to_csv(met+'_clean.csv')"
   ]
  },
  {
   "cell_type": "code",
   "execution_count": 210,
   "metadata": {},
   "outputs": [],
   "source": [
    "# read a clean copy of the preprocessed csv again\n",
    "data = pandas.read_csv(met+'_clean.csv')\n",
    "# remove wrong row indices\n",
    "data = data.drop('Unnamed: 0', axis=1)"
   ]
  },
  {
   "cell_type": "code",
   "execution_count": 211,
   "metadata": {},
   "outputs": [
    {
     "name": "stdout",
     "output_type": "stream",
     "text": [
      "Mean values sorted:\n",
      "mav    0.536238\n",
      "ise    0.530781\n",
      "aju    0.520485\n",
      "kch    0.513458\n",
      "ekr    0.501116\n",
      "rsa    0.480700\n",
      "aca    0.477822\n",
      "gwa    0.442636\n",
      "aka    0.435304\n",
      "mag    0.370510\n",
      "dtype: float64\n",
      "\n",
      "Median sorted:\n",
      "mav    0.693227\n",
      "ise    0.691628\n",
      "kch    0.670936\n",
      "aju    0.668524\n",
      "ekr    0.668031\n",
      "aca    0.621182\n",
      "rsa    0.617984\n",
      "gwa    0.555813\n",
      "aka    0.551763\n",
      "mag    0.435163\n",
      "dtype: float64\n",
      "\n",
      "Standard deviation sorted:\n",
      "mag    0.304030\n",
      "gwa    0.308650\n",
      "aka    0.313537\n",
      "aca    0.323025\n",
      "aju    0.334573\n",
      "rsa    0.334854\n",
      "ise    0.338413\n",
      "kch    0.338730\n",
      "mav    0.340091\n",
      "ekr    0.340406\n",
      "dtype: float64\n"
     ]
    }
   ],
   "source": [
    "#sort the indices by their mean value and reorder the data frame for descending plotting\n",
    "m = data.mean()\n",
    "m_sorted = m.sort_values(ascending=False)\n",
    "print('Mean values sorted:')\n",
    "pprint(m_sorted)\n",
    "print('\\nMedian sorted:')\n",
    "pprint(data.median().sort_values(ascending=False))\n",
    "print('\\nStandard deviation sorted:')\n",
    "pprint(data.std().sort_values(ascending=True))\n",
    "indices = m_sorted.keys()\n",
    "# order dataframe by mean\n",
    "indices = indices.tolist()\n",
    "wt_ordered = data[indices]"
   ]
  },
  {
   "cell_type": "code",
   "execution_count": 212,
   "metadata": {},
   "outputs": [
    {
     "data": {
      "image/png": "[encoded data removed]",
      "text/plain": [
       "<Figure size 432x288 with 1 Axes>"
      ]
     },
     "metadata": {
      "needs_background": "light"
     },
     "output_type": "display_data"
    }
   ],
   "source": [
    "# fig = plt.figure(figsize=(18, 16), dpi= 80, facecolor='w', edgecolor='k')\n",
    "bplot = sb.boxplot(data=wt_ordered, \n",
    "                 width=0.5,\n",
    "                 palette=\"colorblind\")\n",
    "#bplot.axes.set_title('DICE Scores for whole tumor', fontsize=16)\n",
    "bplot.set_xlabel('Algorithms', fontsize=8)\n",
    "bplot.set_ylabel('Dice score', fontsize=8)\n",
    "bplot.hlines(np.max(data.median()), -100, 1000, colors='r')\n",
    "#save the plot\n",
    "bplot.figure.savefig(met+'_fullplot.png', format=form, dpi=res)"
   ]
  },
  {
   "cell_type": "code",
   "execution_count": 213,
   "metadata": {},
   "outputs": [
    {
     "data": {
      "text/plain": [
       "Text(16.200000000000003, 0.5, 'Dice score')"
      ]
     },
     "execution_count": 213,
     "metadata": {},
     "output_type": "execute_result"
    },
    {
     "data": {
      "image/png": "[encoded data removed]",
      "text/plain": [
       "<Figure size 432x288 with 1 Axes>"
      ]
     },
     "metadata": {
      "needs_background": "light"
     },
     "output_type": "display_data"
    }
   ],
   "source": [
    "results = np.split(wt_ordered, [5], axis=1)\n",
    "bplot1 = sb.boxplot(data=results[0], \n",
    "                 width=0.5,\n",
    "                 palette=\"colorblind\")\n",
    "#bplot.axes.set_title('DICE Scores for whole tumor', fontsize=16)\n",
    "bplot1.set_xlabel('Algorithms', fontsize=14)\n",
    "bplot1.set_ylabel('Dice score', fontsize=14)"
   ]
  },
  {
   "cell_type": "code",
   "execution_count": 214,
   "metadata": {},
   "outputs": [
    {
     "data": {
      "text/plain": [
       "Text(16.200000000000003, 0.5, 'Dice score')"
      ]
     },
     "execution_count": 214,
     "metadata": {},
     "output_type": "execute_result"
    },
    {
     "data": {
      "image/png": "[encoded data removed]",
      "text/plain": [
       "<Figure size 432x288 with 1 Axes>"
      ]
     },
     "metadata": {
      "needs_background": "light"
     },
     "output_type": "display_data"
    }
   ],
   "source": [
    "bplot2 = sb.boxplot(data=results[1], \n",
    "                 width=0.5,\n",
    "                 palette=\"colorblind\")\n",
    "#bplot.axes.set_title('DICE Scores for whole tumor', fontsize=16)\n",
    "bplot2.set_xlabel('Algorithms', fontsize=14)\n",
    "bplot2.set_ylabel('Dice score', fontsize=14)"
   ]
  },
  {
   "cell_type": "code",
   "execution_count": 215,
   "metadata": {},
   "outputs": [],
   "source": [
    "#save all of it\n",
    "bplot1.figure.savefig(met+'_boxplot1.png', format=form, dpi=res)\n",
    "bplot2.figure.savefig(met+'_boxplot2.png', format=form, dpi=res)"
   ]
  },
  {
   "cell_type": "code",
   "execution_count": null,
   "metadata": {},
   "outputs": [],
   "source": []
  },
  {
   "cell_type": "code",
   "execution_count": null,
   "metadata": {},
   "outputs": [],
   "source": []
  },
  {
   "cell_type": "code",
   "execution_count": null,
   "metadata": {},
   "outputs": [],
   "source": []
  },
  {
   "cell_type": "code",
   "execution_count": null,
   "metadata": {},
   "outputs": [],
   "source": []
  }
 ],
 "metadata": {
  "kernelspec": {
   "display_name": "Python 3",
   "language": "python",
   "name": "python3"
  },
  "language_info": {
   "codemirror_mode": {
    "name": "ipython",
    "version": 3
   },
   "file_extension": ".py",
   "mimetype": "text/x-python",
   "name": "python",
   "nbconvert_exporter": "python",
   "pygments_lexer": "ipython3",
   "version": "3.7.0"
  }
 },
 "nbformat": 4,
 "nbformat_minor": 2
}
