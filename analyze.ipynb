{
 "cells": [
  {
   "cell_type": "markdown",
   "metadata": {},
   "source": [
    "# Docker BRATS results"
   ]
  },
  {
   "cell_type": "code",
   "execution_count": 94,
   "metadata": {},
   "outputs": [],
   "source": [
    "import numpy as np\n",
    "import matplotlib.pyplot as plt\n",
    "import pandas\n",
    "import os\n",
    "import seaborn as sb\n",
    "import math\n",
    "import pickle\n",
    "from pprint import pprint\n",
    "from nltk import agreement\n",
    "from sklearn.metrics import cohen_kappa_score\n",
    "%matplotlib inline"
   ]
  },
  {
   "cell_type": "code",
   "execution_count": 81,
   "metadata": {},
   "outputs": [],
   "source": [
    "# set up the variables and environment\n",
    "met = 'wt'\n",
    "# stupid switch for dumb experiments to make data pretty\n",
    "stupid = False\n",
    "\n",
    "#set baseline variables for export and stuff\n",
    "res = 400 # dpi value for image export\n",
    "form = 'png' #image format for matplotlib exports\n",
    "filename = met + '_dice_scores.csv'\n",
    "#rename colums to their 3 character IDs\n",
    "candidates = {\n",
    "        'aju' : 'tumor_istb_aj_class.nii',\n",
    "        'aca' : 'data_data_prediction.nii.gz',\n",
    "        'kch' : 'tumor_qtimlab_class.nii.gz',\n",
    "        'ekr' : 'tumor_00000000_class.nii.gz',\n",
    "        'aka' : 'tumor_kamleshp_class.nii.gz',\n",
    "        'mag' : 'tumor_magnrbm_class.nii',\n",
    "        'sse' : 'tumor_saras_tb_class.nii.gz',\n",
    "        'rsa': 'tumor_gevaertlab_class.nii',\n",
    "        'gwa' : 'brats_dc_brats2016_test_klhd_pat101_3.nii.gz',\n",
    "        'ise' : 'tumor_brats2017_isensee_class.nii.gz',\n",
    "        'mav' : 'majvote_fusion.nii.gz',\n",
    "        'sim' : 'simple_fusion.nii.gz',\n",
    "        'sim2': 'simple2_fusion.nii.gz',\n",
    "        'none' : 'default'\n",
    "    }\n",
    "\n",
    "sseRep = {\n",
    "    'brats2016_test_cbica_patAMQ_362' : 0,\n",
    "    'brats2016_test_tcia_pat457_0079' : 0,\n",
    "    'brats2016_test_cbica_patAOQ1_1' : 0\n",
    "}\n",
    "#invert the indices to assign the proper labels\n",
    "inv_cand = {v: k for k, v in candidates.items()}\n",
    "\n",
    "irrScores = {}"
   ]
  },
  {
   "cell_type": "code",
   "execution_count": 82,
   "metadata": {},
   "outputs": [],
   "source": [
    "#import data\n",
    "data = pandas.read_csv(filename)\n",
    "#data"
   ]
  },
  {
   "cell_type": "code",
   "execution_count": 83,
   "metadata": {},
   "outputs": [],
   "source": [
    "#preprocess data\n",
    "def preprocessor(data, met):\n",
    "    # remove every 2nd row (unnecessary column heads)\n",
    "    clean = data.replace({'tumor_saras_tb_class.nii.gz' : sseRep})\n",
    "    clean = clean.iloc[::2]\n",
    "    # remove patient name column\n",
    "    # clean = clean.drop('patient', axis=1)\n",
    "    # rename columns to 3 digit ID\n",
    "    clean = clean.rename(inv_cand, axis=1)\n",
    "    # store csv\n",
    "    #clean.reset_index(inplace=True)\n",
    "    #print(clean)\n",
    "    clean.to_csv(met+'_clean.csv')\n",
    "    # read a clean copy of the preprocessed csv again\n",
    "    data = pandas.read_csv('fixed_data/'+met+'_clean.csv')\n",
    "    # remove wrong row indices\n",
    "    data = data.drop('Unnamed: 0', axis=1)\n",
    "    return data"
   ]
  },
  {
   "cell_type": "code",
   "execution_count": 84,
   "metadata": {},
   "outputs": [],
   "source": [
    "data = preprocessor(data, met)\n",
    "# read a clean copy of the preprocessed csv again\n",
    "# data = pandas.read_csv(met+'_clean.csv')\n",
    "# remove wrong row indices\n",
    "# data = data.drop('Unnamed: 0', axis=1)"
   ]
  },
  {
   "cell_type": "markdown",
   "metadata": {},
   "source": [
    "### Inter Rater Reliability"
   ]
  },
  {
   "cell_type": "code",
   "execution_count": 85,
   "metadata": {},
   "outputs": [],
   "source": [
    "# IRR function using the Cohen Kappa Score \n",
    "# https://en.wikipedia.org/wiki/Cohen%27s_kappa\n",
    "# create empty dataframe for correlation indices\n",
    "\n",
    "def irr(data, res, base=5):\n",
    "    \"\"\" Data is the Dataframe with the initial data\n",
    "    irr is an empty DataFrame with matching columns and indices\n",
    "    (nxn matrix of n columns) for the resulting scores\n",
    "    base is the class interval size (default: 5)\n",
    "    \"\"\"\n",
    "    for r1 in data:\n",
    "        if r1 != 'patient':\n",
    "            # convert continuous values to integer classes\n",
    "            rater1 = (data[r1].round(decimals=2)*100).tolist()\n",
    "            rater1 = list(map(int, rater1))\n",
    "            rater1 = [base*math.floor(x/base) for x in rater1]\n",
    "        for r2 in data:\n",
    "            if r2 != 'patient':\n",
    "                rater2 = (data[r2].round(decimals=2)*100).tolist()\n",
    "                rater2 = list(map(int, rater2))\n",
    "                rater2 = [base*math.floor(x/base) for x in rater2]\n",
    "                # calculate the cohen kappa score \n",
    "                res.loc[r1, r2] = cohen_kappa_score(rater1, rater2)\n",
    "    # minimal postprocessing before returning\n",
    "    res = res.astype(float).round(decimals=2)\n",
    "    return res\n",
    "\n",
    "\n",
    "rows = list(candidates.keys())\n",
    "res = pandas.DataFrame(data=None, index=rows, columns=rows)\n",
    "res.drop(labels=['none', 'sim2'], axis=0, inplace=True)\n",
    "res.drop(labels=['none', 'sim2'], axis=1, inplace=True)\n",
    "res = irr(data, res, 5)\n",
    "export = res.to_latex()\n",
    "irrScores[met] = res\n",
    "with open(met + '_irr.txt', 'w') as f: \n",
    "    f.write(export)"
   ]
  },
  {
   "cell_type": "markdown",
   "metadata": {},
   "source": [
    "## Pre- and Postoperative Comparison"
   ]
  },
  {
   "cell_type": "code",
   "execution_count": 86,
   "metadata": {},
   "outputs": [
    {
     "data": {
      "text/html": [
       "<div>\n",
       "<style scoped>\n",
       "    .dataframe tbody tr th:only-of-type {\n",
       "        vertical-align: middle;\n",
       "    }\n",
       "\n",
       "    .dataframe tbody tr th {\n",
       "        vertical-align: top;\n",
       "    }\n",
       "\n",
       "    .dataframe thead th {\n",
       "        text-align: right;\n",
       "    }\n",
       "</style>\n",
       "<table border=\"1\" class=\"dataframe\">\n",
       "  <thead>\n",
       "    <tr style=\"text-align: right;\">\n",
       "      <th></th>\n",
       "      <th>gwa</th>\n",
       "      <th>aca</th>\n",
       "      <th>mav</th>\n",
       "      <th>sim</th>\n",
       "      <th>ekr</th>\n",
       "      <th>ise</th>\n",
       "      <th>rsa</th>\n",
       "      <th>aju</th>\n",
       "      <th>aka</th>\n",
       "      <th>mag</th>\n",
       "      <th>kch</th>\n",
       "      <th>sse</th>\n",
       "    </tr>\n",
       "  </thead>\n",
       "  <tbody>\n",
       "    <tr>\n",
       "      <th>count</th>\n",
       "      <td>88.000000</td>\n",
       "      <td>88.000000</td>\n",
       "      <td>88.000000</td>\n",
       "      <td>88.000000</td>\n",
       "      <td>88.000000</td>\n",
       "      <td>88.000000</td>\n",
       "      <td>88.000000</td>\n",
       "      <td>88.000000</td>\n",
       "      <td>88.000000</td>\n",
       "      <td>88.000000</td>\n",
       "      <td>88.000000</td>\n",
       "      <td>88.000000</td>\n",
       "    </tr>\n",
       "    <tr>\n",
       "      <th>mean</th>\n",
       "      <td>0.738660</td>\n",
       "      <td>0.743135</td>\n",
       "      <td>0.785955</td>\n",
       "      <td>0.785775</td>\n",
       "      <td>0.755778</td>\n",
       "      <td>0.770322</td>\n",
       "      <td>0.729388</td>\n",
       "      <td>0.782751</td>\n",
       "      <td>0.689845</td>\n",
       "      <td>0.606626</td>\n",
       "      <td>0.747090</td>\n",
       "      <td>0.743279</td>\n",
       "    </tr>\n",
       "    <tr>\n",
       "      <th>std</th>\n",
       "      <td>0.209099</td>\n",
       "      <td>0.220961</td>\n",
       "      <td>0.174050</td>\n",
       "      <td>0.167698</td>\n",
       "      <td>0.193444</td>\n",
       "      <td>0.195910</td>\n",
       "      <td>0.223253</td>\n",
       "      <td>0.159476</td>\n",
       "      <td>0.201113</td>\n",
       "      <td>0.282237</td>\n",
       "      <td>0.201669</td>\n",
       "      <td>0.202832</td>\n",
       "    </tr>\n",
       "    <tr>\n",
       "      <th>min</th>\n",
       "      <td>0.000000</td>\n",
       "      <td>0.000000</td>\n",
       "      <td>0.044492</td>\n",
       "      <td>0.052609</td>\n",
       "      <td>0.083428</td>\n",
       "      <td>0.000000</td>\n",
       "      <td>0.026506</td>\n",
       "      <td>0.090125</td>\n",
       "      <td>0.034239</td>\n",
       "      <td>0.000000</td>\n",
       "      <td>0.009784</td>\n",
       "      <td>0.000000</td>\n",
       "    </tr>\n",
       "    <tr>\n",
       "      <th>25%</th>\n",
       "      <td>0.696126</td>\n",
       "      <td>0.724369</td>\n",
       "      <td>0.734654</td>\n",
       "      <td>0.729638</td>\n",
       "      <td>0.714514</td>\n",
       "      <td>0.737244</td>\n",
       "      <td>0.697028</td>\n",
       "      <td>0.719186</td>\n",
       "      <td>0.620154</td>\n",
       "      <td>0.485485</td>\n",
       "      <td>0.697714</td>\n",
       "      <td>0.676401</td>\n",
       "    </tr>\n",
       "    <tr>\n",
       "      <th>50%</th>\n",
       "      <td>0.799151</td>\n",
       "      <td>0.813768</td>\n",
       "      <td>0.839071</td>\n",
       "      <td>0.840421</td>\n",
       "      <td>0.817484</td>\n",
       "      <td>0.836642</td>\n",
       "      <td>0.800622</td>\n",
       "      <td>0.839620</td>\n",
       "      <td>0.748423</td>\n",
       "      <td>0.703535</td>\n",
       "      <td>0.803403</td>\n",
       "      <td>0.801581</td>\n",
       "    </tr>\n",
       "    <tr>\n",
       "      <th>75%</th>\n",
       "      <td>0.876772</td>\n",
       "      <td>0.878664</td>\n",
       "      <td>0.893011</td>\n",
       "      <td>0.894934</td>\n",
       "      <td>0.878364</td>\n",
       "      <td>0.892474</td>\n",
       "      <td>0.885510</td>\n",
       "      <td>0.889776</td>\n",
       "      <td>0.826726</td>\n",
       "      <td>0.824166</td>\n",
       "      <td>0.877579</td>\n",
       "      <td>0.887709</td>\n",
       "    </tr>\n",
       "    <tr>\n",
       "      <th>max</th>\n",
       "      <td>0.946867</td>\n",
       "      <td>0.934203</td>\n",
       "      <td>0.950314</td>\n",
       "      <td>0.951563</td>\n",
       "      <td>0.948231</td>\n",
       "      <td>0.948391</td>\n",
       "      <td>0.943114</td>\n",
       "      <td>0.945424</td>\n",
       "      <td>0.921931</td>\n",
       "      <td>0.941268</td>\n",
       "      <td>0.937889</td>\n",
       "      <td>0.947616</td>\n",
       "    </tr>\n",
       "  </tbody>\n",
       "</table>\n",
       "</div>"
      ],
      "text/plain": [
       "             gwa        aca        mav        sim        ekr        ise  \\\n",
       "count  88.000000  88.000000  88.000000  88.000000  88.000000  88.000000   \n",
       "mean    0.738660   0.743135   0.785955   0.785775   0.755778   0.770322   \n",
       "std     0.209099   0.220961   0.174050   0.167698   0.193444   0.195910   \n",
       "min     0.000000   0.000000   0.044492   0.052609   0.083428   0.000000   \n",
       "25%     0.696126   0.724369   0.734654   0.729638   0.714514   0.737244   \n",
       "50%     0.799151   0.813768   0.839071   0.840421   0.817484   0.836642   \n",
       "75%     0.876772   0.878664   0.893011   0.894934   0.878364   0.892474   \n",
       "max     0.946867   0.934203   0.950314   0.951563   0.948231   0.948391   \n",
       "\n",
       "             rsa        aju        aka        mag        kch        sse  \n",
       "count  88.000000  88.000000  88.000000  88.000000  88.000000  88.000000  \n",
       "mean    0.729388   0.782751   0.689845   0.606626   0.747090   0.743279  \n",
       "std     0.223253   0.159476   0.201113   0.282237   0.201669   0.202832  \n",
       "min     0.026506   0.090125   0.034239   0.000000   0.009784   0.000000  \n",
       "25%     0.697028   0.719186   0.620154   0.485485   0.697714   0.676401  \n",
       "50%     0.800622   0.839620   0.748423   0.703535   0.803403   0.801581  \n",
       "75%     0.885510   0.889776   0.826726   0.824166   0.877579   0.887709  \n",
       "max     0.943114   0.945424   0.921931   0.941268   0.937889   0.947616  "
      ]
     },
     "execution_count": 86,
     "metadata": {},
     "output_type": "execute_result"
    }
   ],
   "source": [
    "preop = data[data['patient'].str.endswith('1', na='nan')]\n",
    "postop = data.mask(data['patient'].str.endswith('1', na='nan'))\n",
    "postop = postop.dropna(axis=0)\n",
    "postop.describe()"
   ]
  },
  {
   "cell_type": "code",
   "execution_count": 91,
   "metadata": {},
   "outputs": [
    {
     "name": "stdout",
     "output_type": "stream",
     "text": [
      "      aju   aca   kch   ekr   aka   mag   sse   rsa   gwa   ise   mav   sim\n",
      "aju  1.00  0.09  0.39  0.49  0.08  0.11  0.34  0.34  0.28  0.49  0.63  0.62\n",
      "aca  0.09  1.00  0.21  0.19  0.13  0.09  0.27  0.14  0.20  0.16  0.12  0.13\n",
      "kch  0.39  0.21  1.00  0.38  0.17  0.14  0.41  0.38  0.39  0.41  0.48  0.46\n",
      "ekr  0.49  0.19  0.38  1.00  0.12  0.11  0.36  0.37  0.31  0.45  0.59  0.59\n",
      "aka  0.08  0.13  0.17  0.12  1.00  0.07  0.18  0.22  0.22  0.09  0.10  0.10\n",
      "mag  0.11  0.09  0.14  0.11  0.07  1.00  0.15  0.13  0.06  0.08  0.15  0.11\n",
      "sse  0.34  0.27  0.41  0.36  0.18  0.15  1.00  0.32  0.38  0.32  0.35  0.34\n",
      "rsa  0.34  0.14  0.38  0.37  0.22  0.13  0.32  1.00  0.22  0.34  0.38  0.39\n",
      "gwa  0.28  0.20  0.39  0.31  0.22  0.06  0.38  0.22  1.00  0.29  0.33  0.32\n",
      "ise  0.49  0.16  0.41  0.45  0.09  0.08  0.32  0.34  0.29  1.00  0.57  0.57\n",
      "mav  0.63  0.12  0.48  0.59  0.10  0.15  0.35  0.38  0.33  0.57  1.00  0.91\n",
      "sim  0.62  0.13  0.46  0.59  0.10  0.11  0.34  0.39  0.32  0.57  0.91  1.00\n"
     ]
    }
   ],
   "source": [
    "# IRR for Pre- and Postoperative cases:\n",
    "# create empty dataframe for correlation indices\n",
    "res2 = pandas.DataFrame(data=None, index=rows, columns=rows)\n",
    "temp = irr(preop, res2, base=5)\n",
    "temp = temp.astype(float).round(decimals=2)\n",
    "temp.drop(labels=['none', 'sim2', 'patient'], axis=0, inplace=True)\n",
    "temp.drop(labels=['none', 'sim2'], axis=1, inplace=True)\n",
    "print(temp)\n",
    "export = temp.to_latex()\n",
    "irrScores['preop'] = temp"
   ]
  },
  {
   "cell_type": "code",
   "execution_count": 96,
   "metadata": {},
   "outputs": [
    {
     "name": "stdout",
     "output_type": "stream",
     "text": [
      "      aju   aca   kch   ekr   aka   mag   sse   rsa   gwa   ise   mav   sim\n",
      "aju  1.00  0.21  0.31  0.49  0.09  0.02  0.29  0.45  0.19  0.52  0.43  0.51\n",
      "aca  0.21  1.00  0.22  0.29  0.18  0.09  0.27  0.21  0.33  0.20  0.22  0.23\n",
      "kch  0.31  0.22  1.00  0.32  0.14  0.09  0.33  0.43  0.43  0.33  0.37  0.36\n",
      "ekr  0.49  0.29  0.32  1.00  0.16  0.08  0.32  0.39  0.26  0.40  0.50  0.55\n",
      "aka  0.09  0.18  0.14  0.16  1.00  0.13  0.10  0.20  0.13  0.06  0.07  0.06\n",
      "mag  0.02  0.09  0.09  0.08  0.13  1.00  0.12  0.08  0.12  0.03  0.05  0.05\n",
      "sse  0.29  0.27  0.33  0.32  0.10  0.12  1.00  0.26  0.45  0.34  0.42  0.37\n",
      "rsa  0.45  0.21  0.43  0.39  0.20  0.08  0.26  1.00  0.24  0.36  0.36  0.35\n",
      "gwa  0.19  0.33  0.43  0.26  0.13  0.12  0.45  0.24  1.00  0.27  0.30  0.31\n",
      "ise  0.52  0.20  0.33  0.40  0.06  0.03  0.34  0.36  0.27  1.00  0.60  0.62\n",
      "mav  0.43  0.22  0.37  0.50  0.07  0.05  0.42  0.36  0.30  0.60  1.00  0.80\n",
      "sim  0.51  0.23  0.36  0.55  0.06  0.05  0.37  0.35  0.31  0.62  0.80  1.00\n"
     ]
    }
   ],
   "source": [
    "res3 = pandas.DataFrame(data=None, index=rows, columns=rows)\n",
    "temp = irr(postop, res3, base=5)\n",
    "temp = temp.astype(float).round(decimals=2)\n",
    "temp.drop(labels=['none', 'sim2', 'patient'], axis=0, inplace=True)\n",
    "temp.drop(labels=['none', 'sim2'], axis=1, inplace=True)\n",
    "print(temp)\n",
    "export = temp.to_latex()\n",
    "irrScores['postop'] = temp"
   ]
  },
  {
   "cell_type": "markdown",
   "metadata": {},
   "source": [
    "## Dump Data to File \n",
    "And reload for testing purposes"
   ]
  },
  {
   "cell_type": "code",
   "execution_count": 97,
   "metadata": {},
   "outputs": [],
   "source": [
    "# save all data to a pickle file\n",
    "with open('irr.pkl', 'wb') as f:\n",
    "        pickle.dump(irrScores, f, pickle.HIGHEST_PROTOCOL)"
   ]
  },
  {
   "cell_type": "code",
   "execution_count": 98,
   "metadata": {},
   "outputs": [],
   "source": [
    "# load data again\n",
    "with open('irr.pkl', 'rb') as f:\n",
    "        scoresReloaded = pickle.load(f)"
   ]
  },
  {
   "cell_type": "code",
   "execution_count": 100,
   "metadata": {},
   "outputs": [
    {
     "name": "stdout",
     "output_type": "stream",
     "text": [
      "aju        0.15\n",
      "aca        1.00\n",
      "kch        0.22\n",
      "ekr        0.24\n",
      "aka        0.15\n",
      "mag        0.09\n",
      "sse        0.27\n",
      "rsa        0.17\n",
      "gwa        0.26\n",
      "ise        0.18\n",
      "mav        0.17\n",
      "sim        0.17\n",
      "patient    0.27\n",
      "Name: aca, dtype: float64\n"
     ]
    }
   ],
   "source": [
    "#test it\n",
    "print(scoresReloaded['wt'])"
   ]
  },
  {
   "cell_type": "markdown",
   "metadata": {},
   "source": [
    "### Preop and Postop Data Collection"
   ]
  },
  {
   "cell_type": "code",
   "execution_count": null,
   "metadata": {},
   "outputs": [],
   "source": [
    "#comparison of the mean values for pre- and post-operative scans\n",
    "comp = pandas.concat([preop.mean(), postop.mean(), (postop.mean()- preop.mean()), preop.std(), postop.std()], axis=1, sort=True)\n",
    "newname = {0:'Preop Mean', \n",
    "           1:'Postop Mean',\n",
    "           2:'Difference',\n",
    "           3: 'Preop STDEV',\n",
    "           4: 'Postop STDEV'\n",
    "          }\n",
    "comp = comp.rename(columns=newname)\n",
    "print('Comparison for region ' + met + ': \\n', comp)\n",
    "print('\\nMean difference: ' + str(comp['Difference'].mean()))\n",
    "print('\\nMean difference stdev: ' + str(comp['Difference'].std()))\n",
    "comp = comp.round(decimals=3)*100\n",
    "tex = comp.to_latex()\n",
    "with open('textable-'+met+'.txt', 'w') as f: \n",
    "    f.write(tex)\n",
    "prepostplot = sb.boxplot(data=comp['Difference'], width=0.5, palette='spring')\n",
    "# assemble comprehensive table\n",
    "if met == 'wt':\n",
    "    wtcomp = comp.mean()\n",
    "if met == 'tc':\n",
    "    tccomp = comp.mean()\n",
    "if met == 'at':\n",
    "    atcomp = comp.mean()\n",
    "    \n",
    "compressed = pandas.concat([wtcomp, tccomp, atcomp], axis=1, sort=False)\n",
    "compressed = compressed.rename(columns={0: 'Whole Tumor', 1:'Tumor Core', 2:'Active Tumor'})\n",
    "compressed = compressed.round(decimals=1)\n",
    "print(compressed)\n",
    "tex2 = compressed.to_latex()\n",
    "with open('textable-complete.txt', 'w') as f: \n",
    "    f.write(tex2)"
   ]
  },
  {
   "cell_type": "code",
   "execution_count": null,
   "metadata": {},
   "outputs": [],
   "source": []
  },
  {
   "cell_type": "code",
   "execution_count": null,
   "metadata": {},
   "outputs": [],
   "source": [
    "if stupid:\n",
    "    beauty = data[data.mav > 0.3]\n",
    "    data = beauty\n",
    "beauty.describe()"
   ]
  },
  {
   "cell_type": "code",
   "execution_count": null,
   "metadata": {},
   "outputs": [],
   "source": [
    "#sort the indices by their mean value and reorder the data frame for descending plotting\n",
    "m = data.mean()\n",
    "m_sorted = m.sort_values(ascending=False)\n",
    "print('Mean values sorted:')\n",
    "pprint(m_sorted)\n",
    "print('\\nMedian sorted:')\n",
    "pprint(data.median().sort_values(ascending=False))\n",
    "print('\\nStandard deviation sorted:')\n",
    "pprint(data.std().sort_values(ascending=True))\n",
    "indices = m_sorted.keys()\n",
    "# order dataframe by mean\n",
    "indices = indices.tolist()\n",
    "wt_ordered = data[indices]"
   ]
  },
  {
   "cell_type": "code",
   "execution_count": null,
   "metadata": {},
   "outputs": [],
   "source": [
    "# export all metrics to a table \n",
    "metrics = pandas.concat([m_sorted, data.median(), data.std()], axis=1, sort=True)\n",
    "newname = {0:'Mean', \n",
    "           1:'Median',\n",
    "           2:'Std-Dev'}\n",
    "metrics = metrics.rename(columns=newname)\n",
    "# round the values - who needs 8 decimals for such scores?!\n",
    "metrics = metrics.round(decimals=3)\n",
    "print(metrics)\n",
    "metrics.to_csv('tables/'+met+'_table.csv')"
   ]
  },
  {
   "cell_type": "code",
   "execution_count": null,
   "metadata": {},
   "outputs": [],
   "source": [
    "# fig = plt.figure(figsize=(18, 16), dpi= 80, facecolor='w', edgecolor='k')\n",
    "bplot = sb.boxplot(data=wt_ordered, \n",
    "                 width=0.5,\n",
    "                 palette=\"colorblind\")\n",
    "#bplot.axes.set_title('DICE Scores for whole tumor', fontsize=16)\n",
    "bplot.set_xlabel('Algorithms', fontsize=8)\n",
    "bplot.set_ylabel('Dice score', fontsize=8)\n",
    "#plot a horizontal line at the max mean location\n",
    "bplot.hlines(np.max(data.median()), -100, 1000, colors='r')\n",
    "#save the plot\n",
    "bplot.figure.savefig('plots/'+met+'_fullplot_thresh3.png', format=form, dpi=res)"
   ]
  },
  {
   "cell_type": "code",
   "execution_count": null,
   "metadata": {},
   "outputs": [],
   "source": [
    "results = np.split(wt_ordered, [5], axis=1)\n",
    "bplot1 = sb.boxplot(data=results[0], \n",
    "                 width=0.5,\n",
    "                 palette=\"colorblind\")\n",
    "#bplot.axes.set_title('DICE Scores for whole tumor', fontsize=16)\n",
    "bplot1.set_xlabel('Algorithms', fontsize=14)\n",
    "bplot1.set_ylabel('Dice score', fontsize=14)"
   ]
  },
  {
   "cell_type": "code",
   "execution_count": null,
   "metadata": {},
   "outputs": [],
   "source": [
    "bplot2 = sb.boxplot(data=results[1], \n",
    "                 width=0.5,\n",
    "                 palette=\"colorblind\")\n",
    "#bplot.axes.set_title('DICE Scores for whole tumor', fontsize=16)\n",
    "bplot2.set_xlabel('Algorithms', fontsize=14)\n",
    "bplot2.set_ylabel('Dice score', fontsize=14)"
   ]
  },
  {
   "cell_type": "code",
   "execution_count": null,
   "metadata": {},
   "outputs": [],
   "source": [
    "#save all of it\n",
    "#bplot1.figure.savefig(met+'_boxplot1.png', format=form, dpi=res)\n",
    "#bplot2.figure.savefig(met+'_boxplot2.png', format=form, dpi=res)\n",
    "cl.savefig('clustermap.png', format=form, dpi=res)"
   ]
  },
  {
   "cell_type": "code",
   "execution_count": null,
   "metadata": {
    "scrolled": false
   },
   "outputs": [],
   "source": [
    "cl = sb.clustermap(wt_ordered, method='complete')"
   ]
  },
  {
   "cell_type": "markdown",
   "metadata": {},
   "source": [
    "## Compound table for DICE"
   ]
  },
  {
   "cell_type": "code",
   "execution_count": null,
   "metadata": {
    "scrolled": true
   },
   "outputs": [],
   "source": [
    "data = pandas.read_csv('wt_dice_scores.csv')\n",
    "wt_scores = preprocessor(data, 'whole')\n",
    "tc_scores = preprocessor(pandas.read_csv('tc_dice_scores.csv'), 'core')\n",
    "at_scores = preprocessor(pandas.read_csv('at_dice_scores.csv'), 'active')\n",
    "wt_scores.describe()"
   ]
  },
  {
   "cell_type": "code",
   "execution_count": null,
   "metadata": {},
   "outputs": [],
   "source": [
    "wt_m = wt_scores.median()\n",
    "tc_m = tc_scores.median()\n",
    "at_m = at_scores.median()\n",
    "bobby = pandas.concat([wt_m, tc_m, at_m], axis=1, sort=True)\n",
    "newkidz = {\n",
    "    0 : 'WT',\n",
    "    1 : 'TC',\n",
    "    2 : 'AT'\n",
    "}\n",
    "bobby = bobby.rename(columns=newkidz)\n",
    "bobby = bobby.round(decimals=3)*100\n",
    "bobby.to_csv('tables/concisedice.csv')"
   ]
  },
  {
   "cell_type": "markdown",
   "metadata": {},
   "source": [
    "## Specificity and Sensitivity Plotting"
   ]
  },
  {
   "cell_type": "code",
   "execution_count": null,
   "metadata": {},
   "outputs": [],
   "source": [
    "# load data \n",
    "wt_spec = preprocessor(pandas.read_csv('specificity/wt_scores.csv'), 'wt-spec')\n",
    "tc_spec = preprocessor(pandas.read_csv('specificity/tc_scores.csv'), 'tc-spec')\n",
    "at_spec = preprocessor(pandas.read_csv('specificity/at_scores.csv'), 'at-spec')\n",
    "\n",
    "wt_sens = preprocessor(pandas.read_csv('sensitivity/wt_scores.csv'), 'wt-sens')\n",
    "tc_sens = preprocessor(pandas.read_csv('sensitivity/tc_scores.csv'), 'tc-sens')\n",
    "at_sens = preprocessor(pandas.read_csv('sensitivity/at_scores.csv'), 'at-sens')\n"
   ]
  },
  {
   "cell_type": "code",
   "execution_count": null,
   "metadata": {},
   "outputs": [],
   "source": [
    "wt_spec.describe()"
   ]
  },
  {
   "cell_type": "code",
   "execution_count": null,
   "metadata": {},
   "outputs": [],
   "source": [
    "wt_sens.describe()"
   ]
  },
  {
   "cell_type": "code",
   "execution_count": null,
   "metadata": {},
   "outputs": [],
   "source": [
    "# create Series for mean of specificity and sensitivity\n",
    "wtsp_m = wt_spec.mean().round(decimals=3)\n",
    "wtse_m = wt_sens.mean().round(decimals=3)\n",
    "wtse_m"
   ]
  },
  {
   "cell_type": "code",
   "execution_count": null,
   "metadata": {},
   "outputs": [],
   "source": [
    "# assemble Series to a single dataframe and rename the columns\n",
    "wt_plt = pandas.concat([wtsp_m, wtse_m], axis=1, sort=True)\n",
    "wt_plt = wt_plt.rename({0: 'Specificity', 1:'Sensitivity'}, axis=1)\n",
    "# define some colors for the plots\n",
    "colors = ['red','green','blue', 'aqua','gold','fuchsia', 'indigo','lavender','orange', 'sienna','teal','plum']\n",
    "# plot sensitivity vs specificity \n",
    "ax = wt_plt.plot.scatter(x=0, y=1, c=colors, marker='s')\n",
    "for i, txt in enumerate(wt_plt.index):\n",
    "    ax.annotate(txt, (wt_plt.Specificity.iat[i],wt_plt.Sensitivity.iat[i]))\n",
    "ax.grid(True)\n",
    "ax.set_title('Whole Tumor Specificity vs Sensitivity')\n",
    "ax.figure.savefig('wt_sesp.png', format=form, dpi=res)\n",
    "#ax.annotate('aca', wt_plt[0][0], wt_plt[1][0])"
   ]
  },
  {
   "cell_type": "code",
   "execution_count": null,
   "metadata": {},
   "outputs": [],
   "source": [
    "tcsp_m = tc_spec.mean().round(decimals=3)\n",
    "tcse_m = tc_sens.mean().round(decimals=3)\n",
    "tc_plt = pandas.concat([tcsp_m, tcse_m], axis=1, sort=True)\n",
    "tc_plt = tc_plt.rename({0: 'Specificity', 1:'Sensitivity'}, axis=1)\n",
    "colors = ['red','green','blue', 'aqua','gold','fuchsia', 'indigo','lavender','orange', 'sienna','teal','plum']\n",
    "ax = tc_plt.plot.scatter(x=0, y=1, c=colors, marker='s')\n",
    "for i, txt in enumerate(tc_plt.index):\n",
    "    ax.annotate(txt, (tc_plt.Specificity.iat[i],tc_plt.Sensitivity.iat[i]))\n",
    "ax.grid(True)\n",
    "ax.set_title('Tumor Core Specificity vs Sensitivity')\n",
    "ax.figure.savefig('tc_sesp.png', format=form, dpi=res)"
   ]
  },
  {
   "cell_type": "code",
   "execution_count": null,
   "metadata": {},
   "outputs": [],
   "source": [
    "atsp_m = at_spec.mean().round(decimals=3)\n",
    "atse_m = at_sens.mean().round(decimals=3)\n",
    "at_plt = pandas.concat([atsp_m, atse_m], axis=1, sort=True)\n",
    "at_plt = at_plt.rename({0: 'Specificity', 1:'Sensitivity'}, axis=1)\n",
    "colors = ['red','green','blue', 'aqua','gold','fuchsia', 'indigo','lavender','orange', 'sienna','teal','plum']\n",
    "ax = at_plt.plot.scatter(x=0, y=1, c=colors, marker='s')\n",
    "for i, txt in enumerate(at_plt.index):\n",
    "    ax.annotate(txt, (at_plt.Specificity.iat[i],at_plt.Sensitivity.iat[i]))\n",
    "ax.grid(True)\n",
    "ax.set_title('Active Tumor Specificity vs Sensitivity')\n",
    "ax.figure.savefig('at_sesp.png', format=form, dpi=res)"
   ]
  },
  {
   "cell_type": "code",
   "execution_count": null,
   "metadata": {},
   "outputs": [],
   "source": [
    "#once again but with MEDIAN \n",
    "atsp_m = at_spec.median().round(decimals=3)\n",
    "atse_m = at_sens.median().round(decimals=3)\n",
    "at_plt = pandas.concat([atsp_m, atse_m], axis=1, sort=True)\n",
    "at_plt = at_plt.rename({0: 'Specificity', 1:'Sensitivity'}, axis=1)\n",
    "colors = ['red','green','blue', 'aqua','gold','fuchsia', 'indigo','lavender','orange', 'sienna','teal','plum']\n",
    "ax = at_plt.plot.scatter(x=0, y=1, c=colors, marker='s')\n",
    "for i, txt in enumerate(at_plt.index):\n",
    "    ax.annotate(txt, (at_plt.Specificity.iat[i],at_plt.Sensitivity.iat[i]))\n",
    "ax.grid(True)\n",
    "ax.set_title('Active Tumor Specificity vs Sensitivity')"
   ]
  },
  {
   "cell_type": "code",
   "execution_count": null,
   "metadata": {},
   "outputs": [],
   "source": [
    "sens = at_plt.plot(y='Sensitivity', kind='bar')"
   ]
  },
  {
   "cell_type": "code",
   "execution_count": null,
   "metadata": {},
   "outputs": [],
   "source": []
  }
 ],
 "metadata": {
  "kernelspec": {
   "display_name": "Python 3",
   "language": "python",
   "name": "python3"
  },
  "language_info": {
   "codemirror_mode": {
    "name": "ipython",
    "version": 3
   },
   "file_extension": ".py",
   "mimetype": "text/x-python",
   "name": "python",
   "nbconvert_exporter": "python",
   "pygments_lexer": "ipython3",
   "version": "3.7.0"
  }
 },
 "nbformat": 4,
 "nbformat_minor": 2
}
