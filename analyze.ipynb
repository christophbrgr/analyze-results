{
 "cells": [
  {
   "cell_type": "markdown",
   "metadata": {},
   "source": [
    "# Docker BRATS results"
   ]
  },
  {
   "cell_type": "code",
   "execution_count": 133,
   "metadata": {},
   "outputs": [],
   "source": [
    "import numpy as np\n",
    "import matplotlib.pyplot as plt\n",
    "import pandas\n",
    "import os\n",
    "import seaborn as sb\n",
    "import math\n",
    "import pickle\n",
    "from pprint import pprint\n",
    "from nltk import agreement\n",
    "from sklearn.metrics import cohen_kappa_score\n",
    "%matplotlib inline"
   ]
  },
  {
   "cell_type": "code",
   "execution_count": 134,
   "metadata": {},
   "outputs": [],
   "source": [
    "# set up the variables and environment\n",
    "met = 'wt'\n",
    "# stupid switch for dumb experiments to make data pretty\n",
    "stupid = False\n",
    "\n",
    "#set baseline variables for export and stuff\n",
    "res = 400 # dpi value for image export\n",
    "form = 'png' #image format for matplotlib exports\n",
    "filename = met + '_dice_scores.csv'\n",
    "#rename colums to their 3 character IDs\n",
    "candidates = {\n",
    "        'aju' : 'tumor_istb_aj_class.nii',\n",
    "        'aca' : 'data_data_prediction.nii.gz',\n",
    "        'kch' : 'tumor_qtimlab_class.nii.gz',\n",
    "        'ekr' : 'tumor_00000000_class.nii.gz',\n",
    "        'aka' : 'tumor_kamleshp_class.nii.gz',\n",
    "        'mag' : 'tumor_magnrbm_class.nii',\n",
    "        'sse' : 'tumor_saras_tb_class.nii.gz',\n",
    "        'rsa': 'tumor_gevaertlab_class.nii',\n",
    "        'gwa' : 'brats_dc_brats2016_test_klhd_pat101_3.nii.gz',\n",
    "        'ise' : 'tumor_brats2017_isensee_class.nii.gz',\n",
    "        'mav' : 'majvote_fusion.nii.gz',\n",
    "        'sim' : 'simple_fusion.nii.gz',\n",
    "        'sim2': 'simple2_fusion.nii.gz',\n",
    "        'none' : 'default'\n",
    "    }\n",
    "\n",
    "sseRep = {\n",
    "    'brats2016_test_cbica_patAMQ_362' : 0,\n",
    "    'brats2016_test_tcia_pat457_0079' : 0,\n",
    "    'brats2016_test_cbica_patAOQ1_1' : 0\n",
    "}\n",
    "#invert the indices to assign the proper labels\n",
    "inv_cand = {v: k for k, v in candidates.items()}\n",
    "\n",
    "irrScores = {}"
   ]
  },
  {
   "cell_type": "code",
   "execution_count": 135,
   "metadata": {},
   "outputs": [],
   "source": [
    "#import data\n",
    "data = pandas.read_csv(filename)\n",
    "#data"
   ]
  },
  {
   "cell_type": "code",
   "execution_count": 136,
   "metadata": {},
   "outputs": [],
   "source": [
    "#preprocess data\n",
    "def preprocessor(data, met):\n",
    "    # remove every 2nd row (unnecessary column heads)\n",
    "    clean = data.replace({'tumor_saras_tb_class.nii.gz' : sseRep})\n",
    "    clean = clean.iloc[::2]\n",
    "    # remove patient name column\n",
    "    # clean = clean.drop('patient', axis=1)\n",
    "    # rename columns to 3 digit ID\n",
    "    clean = clean.rename(inv_cand, axis=1)\n",
    "    # store csv\n",
    "    #clean.reset_index(inplace=True)\n",
    "    #print(clean)\n",
    "    clean.to_csv(met+'_clean.csv')\n",
    "    # read a clean copy of the preprocessed csv again\n",
    "    data = pandas.read_csv('fixed_data/'+met+'_clean.csv')\n",
    "    # remove wrong row indices\n",
    "    data = data.drop('Unnamed: 0', axis=1)\n",
    "    return data"
   ]
  },
  {
   "cell_type": "code",
   "execution_count": 137,
   "metadata": {},
   "outputs": [],
   "source": [
    "data = preprocessor(data, met)\n",
    "# read a clean copy of the preprocessed csv again\n",
    "# data = pandas.read_csv(met+'_clean.csv')\n",
    "# remove wrong row indices\n",
    "# data = data.drop('Unnamed: 0', axis=1)"
   ]
  },
  {
   "cell_type": "markdown",
   "metadata": {},
   "source": [
    "### Inter Rater Reliability"
   ]
  },
  {
   "cell_type": "code",
   "execution_count": 138,
   "metadata": {},
   "outputs": [],
   "source": [
    "# IRR function using the Cohen Kappa Score \n",
    "# https://en.wikipedia.org/wiki/Cohen%27s_kappa\n",
    "# create empty dataframe for correlation indices\n",
    "\n",
    "def irr(data, res, base=5):\n",
    "    \"\"\" Data is the Dataframe with the initial data\n",
    "    irr is an empty DataFrame with matching columns and indices\n",
    "    (nxn matrix of n columns) for the resulting scores\n",
    "    base is the class interval size (default: 5)\n",
    "    \"\"\"\n",
    "    for r1 in data:\n",
    "        if r1 != 'patient':\n",
    "            # convert continuous values to integer classes\n",
    "            rater1 = (data[r1].round(decimals=2)*100).tolist()\n",
    "            rater1 = list(map(int, rater1))\n",
    "            rater1 = [base*math.floor(x/base) for x in rater1]\n",
    "        for r2 in data:\n",
    "            if r2 != 'patient':\n",
    "                rater2 = (data[r2].round(decimals=2)*100).tolist()\n",
    "                rater2 = list(map(int, rater2))\n",
    "                rater2 = [base*math.floor(x/base) for x in rater2]\n",
    "                # calculate the cohen kappa score \n",
    "                res.loc[r1, r2] = cohen_kappa_score(rater1, rater2)\n",
    "    # minimal postprocessing before returning\n",
    "    res = res.astype(float).round(decimals=2)\n",
    "    return res\n",
    "\n",
    "\n",
    "rows = list(candidates.keys())\n",
    "res = pandas.DataFrame(data=None, index=rows, columns=rows)\n",
    "res.drop(labels=['none', 'sim2'], axis=0, inplace=True)\n",
    "res.drop(labels=['none', 'sim2'], axis=1, inplace=True)\n",
    "res = irr(data, res, 5)\n",
    "export = res.to_latex()\n",
    "irrScores[met] = res\n",
    "with open(met + '_irr.txt', 'w') as f: \n",
    "    f.write(export)"
   ]
  },
  {
   "cell_type": "markdown",
   "metadata": {},
   "source": [
    "## Pre- and Postoperative Comparison"
   ]
  },
  {
   "cell_type": "code",
   "execution_count": 139,
   "metadata": {},
   "outputs": [
    {
     "data": {
      "text/html": [
       "<div>\n",
       "<style scoped>\n",
       "    .dataframe tbody tr th:only-of-type {\n",
       "        vertical-align: middle;\n",
       "    }\n",
       "\n",
       "    .dataframe tbody tr th {\n",
       "        vertical-align: top;\n",
       "    }\n",
       "\n",
       "    .dataframe thead th {\n",
       "        text-align: right;\n",
       "    }\n",
       "</style>\n",
       "<table border=\"1\" class=\"dataframe\">\n",
       "  <thead>\n",
       "    <tr style=\"text-align: right;\">\n",
       "      <th></th>\n",
       "      <th>gwa</th>\n",
       "      <th>aca</th>\n",
       "      <th>mav</th>\n",
       "      <th>sim</th>\n",
       "      <th>ekr</th>\n",
       "      <th>ise</th>\n",
       "      <th>rsa</th>\n",
       "      <th>aju</th>\n",
       "      <th>aka</th>\n",
       "      <th>mag</th>\n",
       "      <th>kch</th>\n",
       "      <th>sse</th>\n",
       "    </tr>\n",
       "  </thead>\n",
       "  <tbody>\n",
       "    <tr>\n",
       "      <th>count</th>\n",
       "      <td>88.000000</td>\n",
       "      <td>88.000000</td>\n",
       "      <td>88.000000</td>\n",
       "      <td>88.000000</td>\n",
       "      <td>88.000000</td>\n",
       "      <td>88.000000</td>\n",
       "      <td>88.000000</td>\n",
       "      <td>88.000000</td>\n",
       "      <td>88.000000</td>\n",
       "      <td>88.000000</td>\n",
       "      <td>88.000000</td>\n",
       "      <td>88.000000</td>\n",
       "    </tr>\n",
       "    <tr>\n",
       "      <th>mean</th>\n",
       "      <td>0.738660</td>\n",
       "      <td>0.743135</td>\n",
       "      <td>0.785955</td>\n",
       "      <td>0.785775</td>\n",
       "      <td>0.755778</td>\n",
       "      <td>0.770322</td>\n",
       "      <td>0.729388</td>\n",
       "      <td>0.782751</td>\n",
       "      <td>0.689845</td>\n",
       "      <td>0.606626</td>\n",
       "      <td>0.747090</td>\n",
       "      <td>0.743279</td>\n",
       "    </tr>\n",
       "    <tr>\n",
       "      <th>std</th>\n",
       "      <td>0.209099</td>\n",
       "      <td>0.220961</td>\n",
       "      <td>0.174050</td>\n",
       "      <td>0.167698</td>\n",
       "      <td>0.193444</td>\n",
       "      <td>0.195910</td>\n",
       "      <td>0.223253</td>\n",
       "      <td>0.159476</td>\n",
       "      <td>0.201113</td>\n",
       "      <td>0.282237</td>\n",
       "      <td>0.201669</td>\n",
       "      <td>0.202832</td>\n",
       "    </tr>\n",
       "    <tr>\n",
       "      <th>min</th>\n",
       "      <td>0.000000</td>\n",
       "      <td>0.000000</td>\n",
       "      <td>0.044492</td>\n",
       "      <td>0.052609</td>\n",
       "      <td>0.083428</td>\n",
       "      <td>0.000000</td>\n",
       "      <td>0.026506</td>\n",
       "      <td>0.090125</td>\n",
       "      <td>0.034239</td>\n",
       "      <td>0.000000</td>\n",
       "      <td>0.009784</td>\n",
       "      <td>0.000000</td>\n",
       "    </tr>\n",
       "    <tr>\n",
       "      <th>25%</th>\n",
       "      <td>0.696126</td>\n",
       "      <td>0.724369</td>\n",
       "      <td>0.734654</td>\n",
       "      <td>0.729638</td>\n",
       "      <td>0.714514</td>\n",
       "      <td>0.737244</td>\n",
       "      <td>0.697028</td>\n",
       "      <td>0.719186</td>\n",
       "      <td>0.620154</td>\n",
       "      <td>0.485485</td>\n",
       "      <td>0.697714</td>\n",
       "      <td>0.676401</td>\n",
       "    </tr>\n",
       "    <tr>\n",
       "      <th>50%</th>\n",
       "      <td>0.799151</td>\n",
       "      <td>0.813768</td>\n",
       "      <td>0.839071</td>\n",
       "      <td>0.840421</td>\n",
       "      <td>0.817484</td>\n",
       "      <td>0.836642</td>\n",
       "      <td>0.800622</td>\n",
       "      <td>0.839620</td>\n",
       "      <td>0.748423</td>\n",
       "      <td>0.703535</td>\n",
       "      <td>0.803403</td>\n",
       "      <td>0.801581</td>\n",
       "    </tr>\n",
       "    <tr>\n",
       "      <th>75%</th>\n",
       "      <td>0.876772</td>\n",
       "      <td>0.878664</td>\n",
       "      <td>0.893011</td>\n",
       "      <td>0.894934</td>\n",
       "      <td>0.878364</td>\n",
       "      <td>0.892474</td>\n",
       "      <td>0.885510</td>\n",
       "      <td>0.889776</td>\n",
       "      <td>0.826726</td>\n",
       "      <td>0.824166</td>\n",
       "      <td>0.877579</td>\n",
       "      <td>0.887709</td>\n",
       "    </tr>\n",
       "    <tr>\n",
       "      <th>max</th>\n",
       "      <td>0.946867</td>\n",
       "      <td>0.934203</td>\n",
       "      <td>0.950314</td>\n",
       "      <td>0.951563</td>\n",
       "      <td>0.948231</td>\n",
       "      <td>0.948391</td>\n",
       "      <td>0.943114</td>\n",
       "      <td>0.945424</td>\n",
       "      <td>0.921931</td>\n",
       "      <td>0.941268</td>\n",
       "      <td>0.937889</td>\n",
       "      <td>0.947616</td>\n",
       "    </tr>\n",
       "  </tbody>\n",
       "</table>\n",
       "</div>"
      ],
      "text/plain": [
       "             gwa        aca        mav        sim        ekr        ise  \\\n",
       "count  88.000000  88.000000  88.000000  88.000000  88.000000  88.000000   \n",
       "mean    0.738660   0.743135   0.785955   0.785775   0.755778   0.770322   \n",
       "std     0.209099   0.220961   0.174050   0.167698   0.193444   0.195910   \n",
       "min     0.000000   0.000000   0.044492   0.052609   0.083428   0.000000   \n",
       "25%     0.696126   0.724369   0.734654   0.729638   0.714514   0.737244   \n",
       "50%     0.799151   0.813768   0.839071   0.840421   0.817484   0.836642   \n",
       "75%     0.876772   0.878664   0.893011   0.894934   0.878364   0.892474   \n",
       "max     0.946867   0.934203   0.950314   0.951563   0.948231   0.948391   \n",
       "\n",
       "             rsa        aju        aka        mag        kch        sse  \n",
       "count  88.000000  88.000000  88.000000  88.000000  88.000000  88.000000  \n",
       "mean    0.729388   0.782751   0.689845   0.606626   0.747090   0.743279  \n",
       "std     0.223253   0.159476   0.201113   0.282237   0.201669   0.202832  \n",
       "min     0.026506   0.090125   0.034239   0.000000   0.009784   0.000000  \n",
       "25%     0.697028   0.719186   0.620154   0.485485   0.697714   0.676401  \n",
       "50%     0.800622   0.839620   0.748423   0.703535   0.803403   0.801581  \n",
       "75%     0.885510   0.889776   0.826726   0.824166   0.877579   0.887709  \n",
       "max     0.943114   0.945424   0.921931   0.941268   0.937889   0.947616  "
      ]
     },
     "execution_count": 139,
     "metadata": {},
     "output_type": "execute_result"
    }
   ],
   "source": [
    "preop = data[data['patient'].str.endswith('1', na='nan')]\n",
    "postop = data.mask(data['patient'].str.endswith('1', na='nan'))\n",
    "postop = postop.dropna(axis=0)\n",
    "postop.describe()"
   ]
  },
  {
   "cell_type": "code",
   "execution_count": 140,
   "metadata": {},
   "outputs": [
    {
     "name": "stdout",
     "output_type": "stream",
     "text": [
      "      aju   aca   kch   ekr   aka   mag   sse   rsa   gwa   ise   mav   sim\n",
      "aju  1.00  0.09  0.39  0.49  0.08  0.11  0.34  0.34  0.28  0.49  0.63  0.62\n",
      "aca  0.09  1.00  0.21  0.19  0.13  0.09  0.27  0.14  0.20  0.16  0.12  0.13\n",
      "kch  0.39  0.21  1.00  0.38  0.17  0.14  0.41  0.38  0.39  0.41  0.48  0.46\n",
      "ekr  0.49  0.19  0.38  1.00  0.12  0.11  0.36  0.37  0.31  0.45  0.59  0.59\n",
      "aka  0.08  0.13  0.17  0.12  1.00  0.07  0.18  0.22  0.22  0.09  0.10  0.10\n",
      "mag  0.11  0.09  0.14  0.11  0.07  1.00  0.15  0.13  0.06  0.08  0.15  0.11\n",
      "sse  0.34  0.27  0.41  0.36  0.18  0.15  1.00  0.32  0.38  0.32  0.35  0.34\n",
      "rsa  0.34  0.14  0.38  0.37  0.22  0.13  0.32  1.00  0.22  0.34  0.38  0.39\n",
      "gwa  0.28  0.20  0.39  0.31  0.22  0.06  0.38  0.22  1.00  0.29  0.33  0.32\n",
      "ise  0.49  0.16  0.41  0.45  0.09  0.08  0.32  0.34  0.29  1.00  0.57  0.57\n",
      "mav  0.63  0.12  0.48  0.59  0.10  0.15  0.35  0.38  0.33  0.57  1.00  0.91\n",
      "sim  0.62  0.13  0.46  0.59  0.10  0.11  0.34  0.39  0.32  0.57  0.91  1.00\n"
     ]
    }
   ],
   "source": [
    "# IRR for Pre- and Postoperative cases:\n",
    "# create empty dataframe for correlation indices\n",
    "res2 = pandas.DataFrame(data=None, index=rows, columns=rows)\n",
    "temp = irr(preop, res2, base=5)\n",
    "temp = temp.astype(float).round(decimals=2)\n",
    "temp.drop(labels=['none', 'sim2', 'patient'], axis=0, inplace=True)\n",
    "temp.drop(labels=['none', 'sim2'], axis=1, inplace=True)\n",
    "print(temp)\n",
    "export = temp.to_latex()\n",
    "irrScores['preop'] = temp"
   ]
  },
  {
   "cell_type": "code",
   "execution_count": 141,
   "metadata": {},
   "outputs": [
    {
     "name": "stdout",
     "output_type": "stream",
     "text": [
      "      aju   aca   kch   ekr   aka   mag   sse   rsa   gwa   ise   mav   sim\n",
      "aju  1.00  0.21  0.31  0.49  0.09  0.02  0.29  0.45  0.19  0.52  0.43  0.51\n",
      "aca  0.21  1.00  0.22  0.29  0.18  0.09  0.27  0.21  0.33  0.20  0.22  0.23\n",
      "kch  0.31  0.22  1.00  0.32  0.14  0.09  0.33  0.43  0.43  0.33  0.37  0.36\n",
      "ekr  0.49  0.29  0.32  1.00  0.16  0.08  0.32  0.39  0.26  0.40  0.50  0.55\n",
      "aka  0.09  0.18  0.14  0.16  1.00  0.13  0.10  0.20  0.13  0.06  0.07  0.06\n",
      "mag  0.02  0.09  0.09  0.08  0.13  1.00  0.12  0.08  0.12  0.03  0.05  0.05\n",
      "sse  0.29  0.27  0.33  0.32  0.10  0.12  1.00  0.26  0.45  0.34  0.42  0.37\n",
      "rsa  0.45  0.21  0.43  0.39  0.20  0.08  0.26  1.00  0.24  0.36  0.36  0.35\n",
      "gwa  0.19  0.33  0.43  0.26  0.13  0.12  0.45  0.24  1.00  0.27  0.30  0.31\n",
      "ise  0.52  0.20  0.33  0.40  0.06  0.03  0.34  0.36  0.27  1.00  0.60  0.62\n",
      "mav  0.43  0.22  0.37  0.50  0.07  0.05  0.42  0.36  0.30  0.60  1.00  0.80\n",
      "sim  0.51  0.23  0.36  0.55  0.06  0.05  0.37  0.35  0.31  0.62  0.80  1.00\n"
     ]
    }
   ],
   "source": [
    "res3 = pandas.DataFrame(data=None, index=rows, columns=rows)\n",
    "temp = irr(postop, res3, base=5)\n",
    "temp = temp.astype(float).round(decimals=2)\n",
    "temp.drop(labels=['none', 'sim2', 'patient'], axis=0, inplace=True)\n",
    "temp.drop(labels=['none', 'sim2'], axis=1, inplace=True)\n",
    "print(temp)\n",
    "export = temp.to_latex()\n",
    "irrScores['postop'] = temp"
   ]
  },
  {
   "cell_type": "markdown",
   "metadata": {},
   "source": [
    "## Dump Data to File \n",
    "And reload for testing purposes"
   ]
  },
  {
   "cell_type": "code",
   "execution_count": 142,
   "metadata": {},
   "outputs": [],
   "source": [
    "# save all data to a pickle file\n",
    "with open('irr.pkl', 'wb') as f:\n",
    "        pickle.dump(irrScores, f, pickle.HIGHEST_PROTOCOL)"
   ]
  },
  {
   "cell_type": "code",
   "execution_count": 143,
   "metadata": {},
   "outputs": [],
   "source": [
    "# load data again\n",
    "with open('irr.pkl', 'rb') as f:\n",
    "        scoresReloaded = pickle.load(f)"
   ]
  },
  {
   "cell_type": "code",
   "execution_count": 144,
   "metadata": {},
   "outputs": [
    {
     "name": "stdout",
     "output_type": "stream",
     "text": [
      "          aju   aca   kch   ekr   aka   mag   sse   rsa   gwa   ise   mav  \\\n",
      "aju      1.00  0.15  0.36  0.50  0.09  0.07  0.32  0.40  0.25  0.51  0.54   \n",
      "aca      0.15  1.00  0.22  0.24  0.15  0.09  0.27  0.17  0.26  0.18  0.17   \n",
      "kch      0.36  0.22  1.00  0.36  0.16  0.12  0.37  0.41  0.42  0.39  0.44   \n",
      "ekr      0.50  0.24  0.36  1.00  0.15  0.10  0.34  0.39  0.30  0.44  0.56   \n",
      "aka      0.09  0.15  0.16  0.15  1.00  0.10  0.15  0.22  0.19  0.08  0.09   \n",
      "mag      0.07  0.09  0.12  0.10  0.10  1.00  0.14  0.11  0.09  0.06  0.11   \n",
      "sse      0.32  0.27  0.37  0.34  0.15  0.14  1.00  0.30  0.41  0.34  0.39   \n",
      "rsa      0.40  0.17  0.41  0.39  0.22  0.11  0.30  1.00  0.24  0.36  0.38   \n",
      "gwa      0.25  0.26  0.42  0.30  0.19  0.09  0.41  0.24  1.00  0.29  0.32   \n",
      "ise      0.51  0.18  0.39  0.44  0.08  0.06  0.34  0.36  0.29  1.00  0.59   \n",
      "mav      0.54  0.17  0.44  0.56  0.09  0.11  0.39  0.38  0.32  0.59  1.00   \n",
      "sim      0.57  0.17  0.42  0.58  0.09  0.09  0.36  0.37  0.32  0.60  0.86   \n",
      "patient  0.32  0.27  0.37  0.34  0.15  0.14  1.00  0.30  0.41  0.34  0.39   \n",
      "\n",
      "          sim  \n",
      "aju      0.57  \n",
      "aca      0.17  \n",
      "kch      0.42  \n",
      "ekr      0.58  \n",
      "aka      0.09  \n",
      "mag      0.09  \n",
      "sse      0.36  \n",
      "rsa      0.37  \n",
      "gwa      0.32  \n",
      "ise      0.60  \n",
      "mav      0.86  \n",
      "sim      1.00  \n",
      "patient  0.36  \n"
     ]
    }
   ],
   "source": [
    "#test it\n",
    "print(scoresReloaded['wt'])"
   ]
  },
  {
   "cell_type": "markdown",
   "metadata": {},
   "source": [
    "## Postprocessing of Giant Data Dumps from IRR Dice Scoring"
   ]
  },
  {
   "cell_type": "code",
   "execution_count": 145,
   "metadata": {
    "scrolled": true
   },
   "outputs": [],
   "source": [
    "with open('/Users/christoph/Documents/Code/project-kraken/wt_results.pkl', 'rb') as f:\n",
    "        giantScores = pickle.load(f)"
   ]
  },
  {
   "cell_type": "code",
   "execution_count": 146,
   "metadata": {},
   "outputs": [
    {
     "name": "stdout",
     "output_type": "stream",
     "text": [
      "Length: 191\n"
     ]
    }
   ],
   "source": [
    "print('Length:', len(giantScores))"
   ]
  },
  {
   "cell_type": "code",
   "execution_count": 147,
   "metadata": {},
   "outputs": [
    {
     "name": "stdout",
     "output_type": "stream",
     "text": [
      "sse not found\n",
      "sse not found\n",
      "aju not found\n"
     ]
    },
    {
     "data": {
      "text/plain": [
       "191"
      ]
     },
     "execution_count": 147,
     "metadata": {},
     "output_type": "execute_result"
    }
   ],
   "source": [
    "# rename all columns and indices to the 3-digit ids\n",
    "# copy scores for backup\n",
    "scores = giantScores\n",
    "for k, df in giantScores.items():\n",
    "    newnames = {\n",
    "            df.filter(regex='fusion').columns[0]: 'sim',\n",
    "            df.filter(regex='qtimlab').columns[0]: 'kch',\n",
    "            df.filter(regex='mikaelagnmagnrbm').columns[0]: 'mag',\n",
    "            df.filter(regex='ekrivovbrats2017_old').columns[0]: 'ekr',\n",
    "            df.filter(regex='isensee').columns[0]: 'ise',\n",
    "            df.filter(regex='brats_dc').columns[0]: 'gwa',\n",
    "            df.filter(regex='predictionbrats_ac').columns[0]: 'aca',\n",
    "            df.filter(regex='kamleshpbrats17').columns[0]: 'aka',\n",
    "            df.filter(regex='gevaertlab').columns[0]: 'rsa'\n",
    "        }\n",
    "    try:\n",
    "        if df.filter(regex='sarassaras_test_brats_2017').columns[0] in df:\n",
    "            newnames[df.filter(regex='sarassaras_test_brats_2017').columns[0]] = 'sse' \n",
    "    except IndexError:\n",
    "        print('sse not found')\n",
    "    try:\n",
    "        if df.filter(regex='istb_aj').columns[0] in df:\n",
    "            newnames[df.filter(regex='istb_aj').columns[0]] = 'aju'\n",
    "    except IndexError:\n",
    "        print('aju not found')\n",
    "    scores[k] = df.rename(index=newnames, columns=newnames, inplace=False)\n",
    "\n",
    "# sanity check\n",
    "len(scores)"
   ]
  },
  {
   "cell_type": "code",
   "execution_count": 148,
   "metadata": {},
   "outputs": [
    {
     "data": {
      "text/html": [
       "<div>\n",
       "<style scoped>\n",
       "    .dataframe tbody tr th:only-of-type {\n",
       "        vertical-align: middle;\n",
       "    }\n",
       "\n",
       "    .dataframe tbody tr th {\n",
       "        vertical-align: top;\n",
       "    }\n",
       "\n",
       "    .dataframe thead th {\n",
       "        text-align: right;\n",
       "    }\n",
       "</style>\n",
       "<table border=\"1\" class=\"dataframe\">\n",
       "  <thead>\n",
       "    <tr style=\"text-align: right;\">\n",
       "      <th></th>\n",
       "      <th>sim</th>\n",
       "      <th>kch</th>\n",
       "      <th>mag</th>\n",
       "      <th>ekr</th>\n",
       "      <th>ise</th>\n",
       "      <th>gwa</th>\n",
       "      <th>aju</th>\n",
       "      <th>aca</th>\n",
       "      <th>aka</th>\n",
       "      <th>rsa</th>\n",
       "      <th>sse</th>\n",
       "    </tr>\n",
       "  </thead>\n",
       "  <tbody>\n",
       "    <tr>\n",
       "      <th>sim</th>\n",
       "      <td>0.999930</td>\n",
       "      <td>0.968328</td>\n",
       "      <td>0.847013</td>\n",
       "      <td>0.964817</td>\n",
       "      <td>0.981780</td>\n",
       "      <td>0.946708</td>\n",
       "      <td>0.978063</td>\n",
       "      <td>0.948651</td>\n",
       "      <td>0.894962</td>\n",
       "      <td>0.948831</td>\n",
       "      <td>0.972598</td>\n",
       "    </tr>\n",
       "    <tr>\n",
       "      <th>kch</th>\n",
       "      <td>0.968396</td>\n",
       "      <td>1.000000</td>\n",
       "      <td>0.843764</td>\n",
       "      <td>0.940843</td>\n",
       "      <td>0.954658</td>\n",
       "      <td>0.938710</td>\n",
       "      <td>0.952578</td>\n",
       "      <td>0.939965</td>\n",
       "      <td>0.884052</td>\n",
       "      <td>0.943848</td>\n",
       "      <td>0.953637</td>\n",
       "    </tr>\n",
       "    <tr>\n",
       "      <th>mag</th>\n",
       "      <td>0.847081</td>\n",
       "      <td>0.843764</td>\n",
       "      <td>1.000000</td>\n",
       "      <td>0.844523</td>\n",
       "      <td>0.838591</td>\n",
       "      <td>0.801039</td>\n",
       "      <td>0.851043</td>\n",
       "      <td>0.816192</td>\n",
       "      <td>0.840157</td>\n",
       "      <td>0.850745</td>\n",
       "      <td>0.832230</td>\n",
       "    </tr>\n",
       "    <tr>\n",
       "      <th>ekr</th>\n",
       "      <td>0.964745</td>\n",
       "      <td>0.940843</td>\n",
       "      <td>0.844523</td>\n",
       "      <td>1.000000</td>\n",
       "      <td>0.963403</td>\n",
       "      <td>0.924168</td>\n",
       "      <td>0.965744</td>\n",
       "      <td>0.919164</td>\n",
       "      <td>0.882330</td>\n",
       "      <td>0.940193</td>\n",
       "      <td>0.944305</td>\n",
       "    </tr>\n",
       "    <tr>\n",
       "      <th>ise</th>\n",
       "      <td>0.981849</td>\n",
       "      <td>0.954658</td>\n",
       "      <td>0.838591</td>\n",
       "      <td>0.963403</td>\n",
       "      <td>1.000000</td>\n",
       "      <td>0.943677</td>\n",
       "      <td>0.974707</td>\n",
       "      <td>0.939954</td>\n",
       "      <td>0.883343</td>\n",
       "      <td>0.937205</td>\n",
       "      <td>0.965132</td>\n",
       "    </tr>\n",
       "    <tr>\n",
       "      <th>gwa</th>\n",
       "      <td>0.946638</td>\n",
       "      <td>0.938710</td>\n",
       "      <td>0.801039</td>\n",
       "      <td>0.924168</td>\n",
       "      <td>0.943677</td>\n",
       "      <td>1.000000</td>\n",
       "      <td>0.931957</td>\n",
       "      <td>0.944933</td>\n",
       "      <td>0.860565</td>\n",
       "      <td>0.905138</td>\n",
       "      <td>0.951078</td>\n",
       "    </tr>\n",
       "    <tr>\n",
       "      <th>aju</th>\n",
       "      <td>0.978132</td>\n",
       "      <td>0.952578</td>\n",
       "      <td>0.851043</td>\n",
       "      <td>0.965744</td>\n",
       "      <td>0.974707</td>\n",
       "      <td>0.931957</td>\n",
       "      <td>1.000000</td>\n",
       "      <td>0.930421</td>\n",
       "      <td>0.889375</td>\n",
       "      <td>0.945492</td>\n",
       "      <td>0.957555</td>\n",
       "    </tr>\n",
       "    <tr>\n",
       "      <th>aca</th>\n",
       "      <td>0.948596</td>\n",
       "      <td>0.939965</td>\n",
       "      <td>0.816192</td>\n",
       "      <td>0.919164</td>\n",
       "      <td>0.939954</td>\n",
       "      <td>0.944933</td>\n",
       "      <td>0.930421</td>\n",
       "      <td>1.000000</td>\n",
       "      <td>0.867720</td>\n",
       "      <td>0.910591</td>\n",
       "      <td>0.947438</td>\n",
       "    </tr>\n",
       "    <tr>\n",
       "      <th>aka</th>\n",
       "      <td>0.894880</td>\n",
       "      <td>0.884052</td>\n",
       "      <td>0.840157</td>\n",
       "      <td>0.882330</td>\n",
       "      <td>0.883343</td>\n",
       "      <td>0.860565</td>\n",
       "      <td>0.889375</td>\n",
       "      <td>0.867720</td>\n",
       "      <td>1.000000</td>\n",
       "      <td>0.888310</td>\n",
       "      <td>0.881289</td>\n",
       "    </tr>\n",
       "    <tr>\n",
       "      <th>rsa</th>\n",
       "      <td>0.948882</td>\n",
       "      <td>0.943848</td>\n",
       "      <td>0.850745</td>\n",
       "      <td>0.940193</td>\n",
       "      <td>0.937205</td>\n",
       "      <td>0.905138</td>\n",
       "      <td>0.945492</td>\n",
       "      <td>0.910591</td>\n",
       "      <td>0.888310</td>\n",
       "      <td>1.000000</td>\n",
       "      <td>0.928120</td>\n",
       "    </tr>\n",
       "    <tr>\n",
       "      <th>sse</th>\n",
       "      <td>0.972528</td>\n",
       "      <td>0.953637</td>\n",
       "      <td>0.832230</td>\n",
       "      <td>0.944305</td>\n",
       "      <td>0.965132</td>\n",
       "      <td>0.951078</td>\n",
       "      <td>0.957555</td>\n",
       "      <td>0.947438</td>\n",
       "      <td>0.881289</td>\n",
       "      <td>0.928120</td>\n",
       "      <td>1.000000</td>\n",
       "    </tr>\n",
       "  </tbody>\n",
       "</table>\n",
       "</div>"
      ],
      "text/plain": [
       "          sim       kch       mag       ekr       ise       gwa       aju  \\\n",
       "sim  0.999930  0.968328  0.847013  0.964817  0.981780  0.946708  0.978063   \n",
       "kch  0.968396  1.000000  0.843764  0.940843  0.954658  0.938710  0.952578   \n",
       "mag  0.847081  0.843764  1.000000  0.844523  0.838591  0.801039  0.851043   \n",
       "ekr  0.964745  0.940843  0.844523  1.000000  0.963403  0.924168  0.965744   \n",
       "ise  0.981849  0.954658  0.838591  0.963403  1.000000  0.943677  0.974707   \n",
       "gwa  0.946638  0.938710  0.801039  0.924168  0.943677  1.000000  0.931957   \n",
       "aju  0.978132  0.952578  0.851043  0.965744  0.974707  0.931957  1.000000   \n",
       "aca  0.948596  0.939965  0.816192  0.919164  0.939954  0.944933  0.930421   \n",
       "aka  0.894880  0.884052  0.840157  0.882330  0.883343  0.860565  0.889375   \n",
       "rsa  0.948882  0.943848  0.850745  0.940193  0.937205  0.905138  0.945492   \n",
       "sse  0.972528  0.953637  0.832230  0.944305  0.965132  0.951078  0.957555   \n",
       "\n",
       "          aca       aka       rsa       sse  \n",
       "sim  0.948651  0.894962  0.948831  0.972598  \n",
       "kch  0.939965  0.884052  0.943848  0.953637  \n",
       "mag  0.816192  0.840157  0.850745  0.832230  \n",
       "ekr  0.919164  0.882330  0.940193  0.944305  \n",
       "ise  0.939954  0.883343  0.937205  0.965132  \n",
       "gwa  0.944933  0.860565  0.905138  0.951078  \n",
       "aju  0.930421  0.889375  0.945492  0.957555  \n",
       "aca  1.000000  0.867720  0.910591  0.947438  \n",
       "aka  0.867720  1.000000  0.888310  0.881289  \n",
       "rsa  0.910591  0.888310  1.000000  0.928120  \n",
       "sse  0.947438  0.881289  0.928120  1.000000  "
      ]
     },
     "execution_count": 148,
     "metadata": {},
     "output_type": "execute_result"
    }
   ],
   "source": [
    "scores['brats2016_test_cbica_patAMO_301']"
   ]
  },
  {
   "cell_type": "markdown",
   "metadata": {},
   "source": [
    "### Calculate Median and Mean across all Patients"
   ]
  },
  {
   "cell_type": "code",
   "execution_count": 149,
   "metadata": {},
   "outputs": [
    {
     "name": "stdout",
     "output_type": "stream",
     "text": [
      "Key error for  brats2016_test_cbica_patAMQ_362\n",
      "Key error for  brats2016_test_cbica_patAMQ_362\n",
      "Key error for  brats2016_test_cbica_patAMQ_362\n",
      "Key error for  brats2016_test_cbica_patAMQ_362\n",
      "Key error for  brats2016_test_cbica_patAMQ_362\n",
      "Key error for  brats2016_test_cbica_patAMQ_362\n",
      "Key error for  brats2016_test_cbica_patAMQ_362\n",
      "Key error for  brats2016_test_cbica_patAMQ_362\n",
      "Key error for  brats2016_test_cbica_patAMQ_362\n",
      "Key error for  brats2016_test_cbica_patAMQ_362\n",
      "Key error for  brats2016_test_cbica_patAMQ_362\n",
      "Key error for  brats2016_test_cbica_patAMQ_362\n",
      "Key error for  brats2016_test_cbica_patAMQ_362\n",
      "Key error for  brats2016_test_cbica_patAMQ_362\n",
      "Key error for  brats2016_test_cbica_patAMQ_362\n",
      "Key error for  brats2016_test_cbica_patAMQ_362\n",
      "Key error for  brats2016_test_cbica_patAMQ_362\n",
      "Key error for  brats2016_test_cbica_patAMQ_362\n",
      "Key error for  brats2016_test_cbica_patAMQ_362\n",
      "Key error for  brats2016_test_cbica_patAMQ_362\n",
      "Key error for  brats2016_test_cbica_patAMQ_362\n",
      "Key error for  brats2016_test_tcia_pat457_0079\n",
      "Key error for  brats2016_test_tcia_pat457_0079\n",
      "Key error for  brats2016_test_tcia_pat457_0079\n",
      "Key error for  brats2016_test_tcia_pat457_0079\n",
      "Key error for  brats2016_test_tcia_pat457_0079\n",
      "Key error for  brats2016_test_tcia_pat457_0079\n",
      "Key error for  brats2016_test_tcia_pat457_0079\n",
      "Key error for  brats2016_test_tcia_pat457_0079\n",
      "Key error for  brats2016_test_tcia_pat457_0079\n",
      "Key error for  brats2016_test_tcia_pat457_0079\n",
      "Key error for  brats2016_test_tcia_pat457_0079\n",
      "Key error for  brats2016_test_tcia_pat457_0079\n",
      "Key error for  brats2016_test_tcia_pat457_0079\n",
      "Key error for  brats2016_test_tcia_pat457_0079\n",
      "Key error for  brats2016_test_tcia_pat457_0079\n",
      "Key error for  brats2016_test_tcia_pat457_0079\n",
      "Key error for  brats2016_test_tcia_pat457_0079\n",
      "Key error for  brats2016_test_tcia_pat457_0079\n",
      "Key error for  brats2016_test_tcia_pat457_0079\n",
      "Key error for  brats2016_test_tcia_pat457_0079\n",
      "Key error for  brats2016_test_tcia_pat457_0079\n",
      "Key error for  brats2016_test_cbica_patAOQ1_1\n",
      "Key error for  brats2016_test_cbica_patAOQ1_1\n",
      "Key error for  brats2016_test_cbica_patAOQ1_1\n",
      "Key error for  brats2016_test_cbica_patAOQ1_1\n",
      "Key error for  brats2016_test_cbica_patAOQ1_1\n",
      "Key error for  brats2016_test_cbica_patAOQ1_1\n",
      "Key error for  brats2016_test_cbica_patAOQ1_1\n",
      "Key error for  brats2016_test_cbica_patAOQ1_1\n",
      "Key error for  brats2016_test_cbica_patAOQ1_1\n",
      "Key error for  brats2016_test_cbica_patAOQ1_1\n",
      "Key error for  brats2016_test_cbica_patAOQ1_1\n",
      "Key error for  brats2016_test_cbica_patAOQ1_1\n",
      "Key error for  brats2016_test_cbica_patAOQ1_1\n",
      "Key error for  brats2016_test_cbica_patAOQ1_1\n",
      "Key error for  brats2016_test_cbica_patAOQ1_1\n",
      "Key error for  brats2016_test_cbica_patAOQ1_1\n",
      "Key error for  brats2016_test_cbica_patAOQ1_1\n",
      "Key error for  brats2016_test_cbica_patAOQ1_1\n",
      "Key error for  brats2016_test_cbica_patAOQ1_1\n",
      "Key error for  brats2016_test_cbica_patAOQ1_1\n",
      "Key error for  brats2016_test_cbica_patAOQ1_1\n"
     ]
    }
   ],
   "source": [
    "titles = ['sim', 'aju', 'kch', 'ise', 'ekr', 'mag', 'aca', 'rsa', 'aka', 'gwa', 'sse']\n",
    "init = np.zeros((11,11))\n",
    "mean = pandas.DataFrame(data=init, index=titles, columns=titles)\n",
    "for k, df in scores.items():\n",
    "    for column in titles:\n",
    "        for index in titles:\n",
    "            try:\n",
    "                mean[column][index] = mean[column][index] + df[column][index]\n",
    "            except KeyError:\n",
    "                print('Key error for ', k)"
   ]
  },
  {
   "cell_type": "code",
   "execution_count": 150,
   "metadata": {},
   "outputs": [
    {
     "data": {
      "text/html": [
       "<div>\n",
       "<style scoped>\n",
       "    .dataframe tbody tr th:only-of-type {\n",
       "        vertical-align: middle;\n",
       "    }\n",
       "\n",
       "    .dataframe tbody tr th {\n",
       "        vertical-align: top;\n",
       "    }\n",
       "\n",
       "    .dataframe thead th {\n",
       "        text-align: right;\n",
       "    }\n",
       "</style>\n",
       "<table border=\"1\" class=\"dataframe\">\n",
       "  <thead>\n",
       "    <tr style=\"text-align: right;\">\n",
       "      <th></th>\n",
       "      <th>sim</th>\n",
       "      <th>aju</th>\n",
       "      <th>kch</th>\n",
       "      <th>ise</th>\n",
       "      <th>ekr</th>\n",
       "      <th>mag</th>\n",
       "      <th>aca</th>\n",
       "      <th>rsa</th>\n",
       "      <th>aka</th>\n",
       "      <th>gwa</th>\n",
       "      <th>sse</th>\n",
       "    </tr>\n",
       "  </thead>\n",
       "  <tbody>\n",
       "    <tr>\n",
       "      <th>sim</th>\n",
       "      <td>190.067125</td>\n",
       "      <td>172.632809</td>\n",
       "      <td>169.639552</td>\n",
       "      <td>173.802936</td>\n",
       "      <td>171.376500</td>\n",
       "      <td>126.737119</td>\n",
       "      <td>161.445792</td>\n",
       "      <td>163.041057</td>\n",
       "      <td>151.443463</td>\n",
       "      <td>166.545035</td>\n",
       "      <td>165.640472</td>\n",
       "    </tr>\n",
       "    <tr>\n",
       "      <th>aju</th>\n",
       "      <td>174.088733</td>\n",
       "      <td>189.000000</td>\n",
       "      <td>160.298226</td>\n",
       "      <td>167.033427</td>\n",
       "      <td>166.564224</td>\n",
       "      <td>123.172669</td>\n",
       "      <td>153.394284</td>\n",
       "      <td>155.594619</td>\n",
       "      <td>145.185608</td>\n",
       "      <td>157.253947</td>\n",
       "      <td>159.946724</td>\n",
       "    </tr>\n",
       "    <tr>\n",
       "      <th>kch</th>\n",
       "      <td>170.206017</td>\n",
       "      <td>159.512596</td>\n",
       "      <td>191.000000</td>\n",
       "      <td>162.441127</td>\n",
       "      <td>161.400526</td>\n",
       "      <td>120.446360</td>\n",
       "      <td>154.887004</td>\n",
       "      <td>157.401528</td>\n",
       "      <td>144.500150</td>\n",
       "      <td>162.953405</td>\n",
       "      <td>158.330228</td>\n",
       "    </tr>\n",
       "    <tr>\n",
       "      <th>ise</th>\n",
       "      <td>173.874984</td>\n",
       "      <td>166.128113</td>\n",
       "      <td>162.441127</td>\n",
       "      <td>191.000000</td>\n",
       "      <td>165.020792</td>\n",
       "      <td>122.199025</td>\n",
       "      <td>154.819191</td>\n",
       "      <td>157.382745</td>\n",
       "      <td>145.186500</td>\n",
       "      <td>161.460792</td>\n",
       "      <td>160.089395</td>\n",
       "    </tr>\n",
       "    <tr>\n",
       "      <th>ekr</th>\n",
       "      <td>171.724598</td>\n",
       "      <td>165.700931</td>\n",
       "      <td>161.400526</td>\n",
       "      <td>165.020792</td>\n",
       "      <td>191.000000</td>\n",
       "      <td>121.691443</td>\n",
       "      <td>153.849394</td>\n",
       "      <td>157.533389</td>\n",
       "      <td>144.977851</td>\n",
       "      <td>159.090856</td>\n",
       "      <td>158.956065</td>\n",
       "    </tr>\n",
       "    <tr>\n",
       "      <th>mag</th>\n",
       "      <td>127.313609</td>\n",
       "      <td>122.338808</td>\n",
       "      <td>120.446360</td>\n",
       "      <td>122.199025</td>\n",
       "      <td>121.691443</td>\n",
       "      <td>189.000000</td>\n",
       "      <td>117.189096</td>\n",
       "      <td>116.094456</td>\n",
       "      <td>111.177835</td>\n",
       "      <td>117.094186</td>\n",
       "      <td>118.601564</td>\n",
       "    </tr>\n",
       "    <tr>\n",
       "      <th>aca</th>\n",
       "      <td>161.568335</td>\n",
       "      <td>152.649037</td>\n",
       "      <td>154.887004</td>\n",
       "      <td>154.819191</td>\n",
       "      <td>153.849394</td>\n",
       "      <td>117.189096</td>\n",
       "      <td>190.000000</td>\n",
       "      <td>147.499798</td>\n",
       "      <td>138.474567</td>\n",
       "      <td>156.037389</td>\n",
       "      <td>150.729839</td>\n",
       "    </tr>\n",
       "    <tr>\n",
       "      <th>rsa</th>\n",
       "      <td>162.639809</td>\n",
       "      <td>154.747004</td>\n",
       "      <td>157.401528</td>\n",
       "      <td>157.382745</td>\n",
       "      <td>157.533389</td>\n",
       "      <td>116.094456</td>\n",
       "      <td>147.499798</td>\n",
       "      <td>191.000000</td>\n",
       "      <td>141.772324</td>\n",
       "      <td>153.022781</td>\n",
       "      <td>149.915254</td>\n",
       "    </tr>\n",
       "    <tr>\n",
       "      <th>aka</th>\n",
       "      <td>151.295964</td>\n",
       "      <td>144.537583</td>\n",
       "      <td>144.500150</td>\n",
       "      <td>145.186500</td>\n",
       "      <td>144.977851</td>\n",
       "      <td>111.177835</td>\n",
       "      <td>138.474567</td>\n",
       "      <td>141.772324</td>\n",
       "      <td>191.000000</td>\n",
       "      <td>144.159714</td>\n",
       "      <td>142.495352</td>\n",
       "    </tr>\n",
       "    <tr>\n",
       "      <th>gwa</th>\n",
       "      <td>166.532993</td>\n",
       "      <td>156.532637</td>\n",
       "      <td>162.953405</td>\n",
       "      <td>161.460792</td>\n",
       "      <td>159.090856</td>\n",
       "      <td>117.094186</td>\n",
       "      <td>156.037389</td>\n",
       "      <td>153.022781</td>\n",
       "      <td>144.159714</td>\n",
       "      <td>191.000000</td>\n",
       "      <td>161.133587</td>\n",
       "    </tr>\n",
       "    <tr>\n",
       "      <th>sse</th>\n",
       "      <td>166.008460</td>\n",
       "      <td>159.165086</td>\n",
       "      <td>158.330228</td>\n",
       "      <td>160.089395</td>\n",
       "      <td>158.956065</td>\n",
       "      <td>118.601564</td>\n",
       "      <td>150.729839</td>\n",
       "      <td>149.915254</td>\n",
       "      <td>142.495352</td>\n",
       "      <td>161.133587</td>\n",
       "      <td>188.000000</td>\n",
       "    </tr>\n",
       "  </tbody>\n",
       "</table>\n",
       "</div>"
      ],
      "text/plain": [
       "            sim         aju         kch         ise         ekr         mag  \\\n",
       "sim  190.067125  172.632809  169.639552  173.802936  171.376500  126.737119   \n",
       "aju  174.088733  189.000000  160.298226  167.033427  166.564224  123.172669   \n",
       "kch  170.206017  159.512596  191.000000  162.441127  161.400526  120.446360   \n",
       "ise  173.874984  166.128113  162.441127  191.000000  165.020792  122.199025   \n",
       "ekr  171.724598  165.700931  161.400526  165.020792  191.000000  121.691443   \n",
       "mag  127.313609  122.338808  120.446360  122.199025  121.691443  189.000000   \n",
       "aca  161.568335  152.649037  154.887004  154.819191  153.849394  117.189096   \n",
       "rsa  162.639809  154.747004  157.401528  157.382745  157.533389  116.094456   \n",
       "aka  151.295964  144.537583  144.500150  145.186500  144.977851  111.177835   \n",
       "gwa  166.532993  156.532637  162.953405  161.460792  159.090856  117.094186   \n",
       "sse  166.008460  159.165086  158.330228  160.089395  158.956065  118.601564   \n",
       "\n",
       "            aca         rsa         aka         gwa         sse  \n",
       "sim  161.445792  163.041057  151.443463  166.545035  165.640472  \n",
       "aju  153.394284  155.594619  145.185608  157.253947  159.946724  \n",
       "kch  154.887004  157.401528  144.500150  162.953405  158.330228  \n",
       "ise  154.819191  157.382745  145.186500  161.460792  160.089395  \n",
       "ekr  153.849394  157.533389  144.977851  159.090856  158.956065  \n",
       "mag  117.189096  116.094456  111.177835  117.094186  118.601564  \n",
       "aca  190.000000  147.499798  138.474567  156.037389  150.729839  \n",
       "rsa  147.499798  191.000000  141.772324  153.022781  149.915254  \n",
       "aka  138.474567  141.772324  191.000000  144.159714  142.495352  \n",
       "gwa  156.037389  153.022781  144.159714  191.000000  161.133587  \n",
       "sse  150.729839  149.915254  142.495352  161.133587  188.000000  "
      ]
     },
     "execution_count": 150,
     "metadata": {},
     "output_type": "execute_result"
    }
   ],
   "source": [
    "mean"
   ]
  },
  {
   "cell_type": "code",
   "execution_count": 151,
   "metadata": {},
   "outputs": [
    {
     "data": {
      "text/html": [
       "<div>\n",
       "<style scoped>\n",
       "    .dataframe tbody tr th:only-of-type {\n",
       "        vertical-align: middle;\n",
       "    }\n",
       "\n",
       "    .dataframe tbody tr th {\n",
       "        vertical-align: top;\n",
       "    }\n",
       "\n",
       "    .dataframe thead th {\n",
       "        text-align: right;\n",
       "    }\n",
       "</style>\n",
       "<table border=\"1\" class=\"dataframe\">\n",
       "  <thead>\n",
       "    <tr style=\"text-align: right;\">\n",
       "      <th></th>\n",
       "      <th>sim</th>\n",
       "      <th>aju</th>\n",
       "      <th>kch</th>\n",
       "      <th>ise</th>\n",
       "      <th>ekr</th>\n",
       "      <th>mag</th>\n",
       "      <th>aca</th>\n",
       "      <th>rsa</th>\n",
       "      <th>aka</th>\n",
       "      <th>gwa</th>\n",
       "      <th>sse</th>\n",
       "    </tr>\n",
       "  </thead>\n",
       "  <tbody>\n",
       "    <tr>\n",
       "      <th>sim</th>\n",
       "      <td>1.000000</td>\n",
       "      <td>0.913401</td>\n",
       "      <td>0.888165</td>\n",
       "      <td>0.909963</td>\n",
       "      <td>0.897259</td>\n",
       "      <td>0.670567</td>\n",
       "      <td>0.849715</td>\n",
       "      <td>0.853618</td>\n",
       "      <td>0.792898</td>\n",
       "      <td>0.871964</td>\n",
       "      <td>0.881066</td>\n",
       "    </tr>\n",
       "    <tr>\n",
       "      <th>aju</th>\n",
       "      <td>0.921104</td>\n",
       "      <td>1.000000</td>\n",
       "      <td>0.839258</td>\n",
       "      <td>0.874521</td>\n",
       "      <td>0.872064</td>\n",
       "      <td>0.651707</td>\n",
       "      <td>0.807338</td>\n",
       "      <td>0.814632</td>\n",
       "      <td>0.760134</td>\n",
       "      <td>0.823319</td>\n",
       "      <td>0.850780</td>\n",
       "    </tr>\n",
       "    <tr>\n",
       "      <th>kch</th>\n",
       "      <td>0.891131</td>\n",
       "      <td>0.835144</td>\n",
       "      <td>1.000000</td>\n",
       "      <td>0.850477</td>\n",
       "      <td>0.845029</td>\n",
       "      <td>0.637282</td>\n",
       "      <td>0.815195</td>\n",
       "      <td>0.824092</td>\n",
       "      <td>0.756545</td>\n",
       "      <td>0.853159</td>\n",
       "      <td>0.842182</td>\n",
       "    </tr>\n",
       "    <tr>\n",
       "      <th>ise</th>\n",
       "      <td>0.910340</td>\n",
       "      <td>0.869781</td>\n",
       "      <td>0.850477</td>\n",
       "      <td>1.000000</td>\n",
       "      <td>0.863983</td>\n",
       "      <td>0.646556</td>\n",
       "      <td>0.814838</td>\n",
       "      <td>0.823993</td>\n",
       "      <td>0.760139</td>\n",
       "      <td>0.845344</td>\n",
       "      <td>0.851539</td>\n",
       "    </tr>\n",
       "    <tr>\n",
       "      <th>ekr</th>\n",
       "      <td>0.899082</td>\n",
       "      <td>0.867544</td>\n",
       "      <td>0.845029</td>\n",
       "      <td>0.863983</td>\n",
       "      <td>1.000000</td>\n",
       "      <td>0.643870</td>\n",
       "      <td>0.809734</td>\n",
       "      <td>0.824782</td>\n",
       "      <td>0.759046</td>\n",
       "      <td>0.832936</td>\n",
       "      <td>0.845511</td>\n",
       "    </tr>\n",
       "    <tr>\n",
       "      <th>mag</th>\n",
       "      <td>0.673617</td>\n",
       "      <td>0.647295</td>\n",
       "      <td>0.637282</td>\n",
       "      <td>0.646556</td>\n",
       "      <td>0.643870</td>\n",
       "      <td>1.000000</td>\n",
       "      <td>0.616785</td>\n",
       "      <td>0.607824</td>\n",
       "      <td>0.582083</td>\n",
       "      <td>0.613059</td>\n",
       "      <td>0.630859</td>\n",
       "    </tr>\n",
       "    <tr>\n",
       "      <th>aca</th>\n",
       "      <td>0.850360</td>\n",
       "      <td>0.803416</td>\n",
       "      <td>0.815195</td>\n",
       "      <td>0.814838</td>\n",
       "      <td>0.809734</td>\n",
       "      <td>0.616785</td>\n",
       "      <td>1.000000</td>\n",
       "      <td>0.772250</td>\n",
       "      <td>0.724998</td>\n",
       "      <td>0.816950</td>\n",
       "      <td>0.801754</td>\n",
       "    </tr>\n",
       "    <tr>\n",
       "      <th>rsa</th>\n",
       "      <td>0.851517</td>\n",
       "      <td>0.810194</td>\n",
       "      <td>0.824092</td>\n",
       "      <td>0.823993</td>\n",
       "      <td>0.824782</td>\n",
       "      <td>0.607824</td>\n",
       "      <td>0.772250</td>\n",
       "      <td>1.000000</td>\n",
       "      <td>0.742263</td>\n",
       "      <td>0.801166</td>\n",
       "      <td>0.797422</td>\n",
       "    </tr>\n",
       "    <tr>\n",
       "      <th>aka</th>\n",
       "      <td>0.792125</td>\n",
       "      <td>0.756741</td>\n",
       "      <td>0.756545</td>\n",
       "      <td>0.760139</td>\n",
       "      <td>0.759046</td>\n",
       "      <td>0.582083</td>\n",
       "      <td>0.724998</td>\n",
       "      <td>0.742263</td>\n",
       "      <td>1.000000</td>\n",
       "      <td>0.754763</td>\n",
       "      <td>0.757954</td>\n",
       "    </tr>\n",
       "    <tr>\n",
       "      <th>gwa</th>\n",
       "      <td>0.871900</td>\n",
       "      <td>0.819543</td>\n",
       "      <td>0.853159</td>\n",
       "      <td>0.845344</td>\n",
       "      <td>0.832936</td>\n",
       "      <td>0.613059</td>\n",
       "      <td>0.816950</td>\n",
       "      <td>0.801166</td>\n",
       "      <td>0.754763</td>\n",
       "      <td>1.000000</td>\n",
       "      <td>0.857094</td>\n",
       "    </tr>\n",
       "    <tr>\n",
       "      <th>sse</th>\n",
       "      <td>0.883024</td>\n",
       "      <td>0.846623</td>\n",
       "      <td>0.842182</td>\n",
       "      <td>0.851539</td>\n",
       "      <td>0.845511</td>\n",
       "      <td>0.630859</td>\n",
       "      <td>0.801754</td>\n",
       "      <td>0.797422</td>\n",
       "      <td>0.757954</td>\n",
       "      <td>0.857094</td>\n",
       "      <td>1.000000</td>\n",
       "    </tr>\n",
       "  </tbody>\n",
       "</table>\n",
       "</div>"
      ],
      "text/plain": [
       "          sim       aju       kch       ise       ekr       mag       aca  \\\n",
       "sim  1.000000  0.913401  0.888165  0.909963  0.897259  0.670567  0.849715   \n",
       "aju  0.921104  1.000000  0.839258  0.874521  0.872064  0.651707  0.807338   \n",
       "kch  0.891131  0.835144  1.000000  0.850477  0.845029  0.637282  0.815195   \n",
       "ise  0.910340  0.869781  0.850477  1.000000  0.863983  0.646556  0.814838   \n",
       "ekr  0.899082  0.867544  0.845029  0.863983  1.000000  0.643870  0.809734   \n",
       "mag  0.673617  0.647295  0.637282  0.646556  0.643870  1.000000  0.616785   \n",
       "aca  0.850360  0.803416  0.815195  0.814838  0.809734  0.616785  1.000000   \n",
       "rsa  0.851517  0.810194  0.824092  0.823993  0.824782  0.607824  0.772250   \n",
       "aka  0.792125  0.756741  0.756545  0.760139  0.759046  0.582083  0.724998   \n",
       "gwa  0.871900  0.819543  0.853159  0.845344  0.832936  0.613059  0.816950   \n",
       "sse  0.883024  0.846623  0.842182  0.851539  0.845511  0.630859  0.801754   \n",
       "\n",
       "          rsa       aka       gwa       sse  \n",
       "sim  0.853618  0.792898  0.871964  0.881066  \n",
       "aju  0.814632  0.760134  0.823319  0.850780  \n",
       "kch  0.824092  0.756545  0.853159  0.842182  \n",
       "ise  0.823993  0.760139  0.845344  0.851539  \n",
       "ekr  0.824782  0.759046  0.832936  0.845511  \n",
       "mag  0.607824  0.582083  0.613059  0.630859  \n",
       "aca  0.772250  0.724998  0.816950  0.801754  \n",
       "rsa  1.000000  0.742263  0.801166  0.797422  \n",
       "aka  0.742263  1.000000  0.754763  0.757954  \n",
       "gwa  0.801166  0.754763  1.000000  0.857094  \n",
       "sse  0.797422  0.757954  0.857094  1.000000  "
      ]
     },
     "execution_count": 151,
     "metadata": {},
     "output_type": "execute_result"
    }
   ],
   "source": [
    "result = pandas.DataFrame(data=init, index=titles, columns=titles)\n",
    "for column in titles:\n",
    "    for index in titles:\n",
    "        div = mean[column][column]\n",
    "        try:\n",
    "            mean[index][column] = mean[index][column] / div\n",
    "            if column != index:\n",
    "                mean[column][index] = mean[column][index] / div\n",
    "        except KeyError:\n",
    "            print('Key error for ', k)\n",
    "mean"
   ]
  },
  {
   "cell_type": "code",
   "execution_count": 152,
   "metadata": {},
   "outputs": [],
   "source": [
    "mean.to_csv('irr_export.csv')"
   ]
  },
  {
   "cell_type": "code",
   "execution_count": 153,
   "metadata": {},
   "outputs": [
    {
     "data": {
      "image/png": "[encoded data removed]",
      "text/plain": [
       "<Figure size 720x720 with 4 Axes>"
      ]
     },
     "metadata": {
      "needs_background": "light"
     },
     "output_type": "display_data"
    }
   ],
   "source": [
    "cl_irr = sb.clustermap(mean, method='complete')"
   ]
  },
  {
   "cell_type": "markdown",
   "metadata": {},
   "source": [
    "### Preop and Postop Data Collection"
   ]
  },
  {
   "cell_type": "code",
   "execution_count": 154,
   "metadata": {},
   "outputs": [
    {
     "name": "stdout",
     "output_type": "stream",
     "text": [
      "Comparison for region wt: \n",
      "      Preop Mean  Postop Mean  Difference  Preop STDEV  Postop STDEV\n",
      "aca    0.765267     0.743135   -0.022132     0.170562      0.220961\n",
      "aju    0.809195     0.782751   -0.026443     0.178123      0.159476\n",
      "aka    0.725190     0.689845   -0.035346     0.200904      0.201113\n",
      "ekr    0.791954     0.755778   -0.036177     0.183028      0.193444\n",
      "gwa    0.754774     0.738660   -0.016114     0.215637      0.209099\n",
      "ise    0.797998     0.770322   -0.027676     0.206555      0.195910\n",
      "kch    0.781317     0.747090   -0.034227     0.194565      0.201669\n",
      "mag    0.653261     0.606626   -0.046635     0.301828      0.282237\n",
      "mav    0.806910     0.785955   -0.020956     0.188321      0.174050\n",
      "rsa    0.758902     0.729388   -0.029514     0.208403      0.223253\n",
      "sim    0.808807     0.785775   -0.023032     0.186760      0.167698\n",
      "sse    0.751320     0.743279   -0.008041     0.230218      0.202832\n",
      "\n",
      "Mean difference: -0.027190952273770507\n",
      "\n",
      "Mean difference stdev: 0.010234433376314227\n"
     ]
    },
    {
     "ename": "NameError",
     "evalue": "name 'tccomp' is not defined",
     "output_type": "error",
     "traceback": [
      "\u001b[0;31m---------------------------------------------------------------------------\u001b[0m",
      "\u001b[0;31mNameError\u001b[0m                                 Traceback (most recent call last)",
      "\u001b[0;32m<ipython-input-154-04d7325a8b6c>\u001b[0m in \u001b[0;36m<module>\u001b[0;34m()\u001b[0m\n\u001b[1;32m     24\u001b[0m     \u001b[0matcomp\u001b[0m \u001b[0;34m=\u001b[0m \u001b[0mcomp\u001b[0m\u001b[0;34m.\u001b[0m\u001b[0mmean\u001b[0m\u001b[0;34m(\u001b[0m\u001b[0;34m)\u001b[0m\u001b[0;34m\u001b[0m\u001b[0m\n\u001b[1;32m     25\u001b[0m \u001b[0;34m\u001b[0m\u001b[0m\n\u001b[0;32m---> 26\u001b[0;31m \u001b[0mcompressed\u001b[0m \u001b[0;34m=\u001b[0m \u001b[0mpandas\u001b[0m\u001b[0;34m.\u001b[0m\u001b[0mconcat\u001b[0m\u001b[0;34m(\u001b[0m\u001b[0;34m[\u001b[0m\u001b[0mwtcomp\u001b[0m\u001b[0;34m,\u001b[0m \u001b[0mtccomp\u001b[0m\u001b[0;34m,\u001b[0m \u001b[0matcomp\u001b[0m\u001b[0;34m]\u001b[0m\u001b[0;34m,\u001b[0m \u001b[0maxis\u001b[0m\u001b[0;34m=\u001b[0m\u001b[0;36m1\u001b[0m\u001b[0;34m,\u001b[0m \u001b[0msort\u001b[0m\u001b[0;34m=\u001b[0m\u001b[0;32mFalse\u001b[0m\u001b[0;34m)\u001b[0m\u001b[0;34m\u001b[0m\u001b[0m\n\u001b[0m\u001b[1;32m     27\u001b[0m \u001b[0mcompressed\u001b[0m \u001b[0;34m=\u001b[0m \u001b[0mcompressed\u001b[0m\u001b[0;34m.\u001b[0m\u001b[0mrename\u001b[0m\u001b[0;34m(\u001b[0m\u001b[0mcolumns\u001b[0m\u001b[0;34m=\u001b[0m\u001b[0;34m{\u001b[0m\u001b[0;36m0\u001b[0m\u001b[0;34m:\u001b[0m \u001b[0;34m'Whole Tumor'\u001b[0m\u001b[0;34m,\u001b[0m \u001b[0;36m1\u001b[0m\u001b[0;34m:\u001b[0m\u001b[0;34m'Tumor Core'\u001b[0m\u001b[0;34m,\u001b[0m \u001b[0;36m2\u001b[0m\u001b[0;34m:\u001b[0m\u001b[0;34m'Active Tumor'\u001b[0m\u001b[0;34m}\u001b[0m\u001b[0;34m)\u001b[0m\u001b[0;34m\u001b[0m\u001b[0m\n\u001b[1;32m     28\u001b[0m \u001b[0mcompressed\u001b[0m \u001b[0;34m=\u001b[0m \u001b[0mcompressed\u001b[0m\u001b[0;34m.\u001b[0m\u001b[0mround\u001b[0m\u001b[0;34m(\u001b[0m\u001b[0mdecimals\u001b[0m\u001b[0;34m=\u001b[0m\u001b[0;36m1\u001b[0m\u001b[0;34m)\u001b[0m\u001b[0;34m\u001b[0m\u001b[0m\n",
      "\u001b[0;31mNameError\u001b[0m: name 'tccomp' is not defined"
     ]
    },
    {
     "data": {
      "image/png": "[encoded data removed]",
      "text/plain": [
       "<Figure size 432x288 with 1 Axes>"
      ]
     },
     "metadata": {
      "needs_background": "light"
     },
     "output_type": "display_data"
    }
   ],
   "source": [
    "#comparison of the mean values for pre- and post-operative scans\n",
    "comp = pandas.concat([preop.mean(), postop.mean(), (postop.mean()- preop.mean()), preop.std(), postop.std()], axis=1, sort=True)\n",
    "newname = {0:'Preop Mean', \n",
    "           1:'Postop Mean',\n",
    "           2:'Difference',\n",
    "           3: 'Preop STDEV',\n",
    "           4: 'Postop STDEV'\n",
    "          }\n",
    "comp = comp.rename(columns=newname)\n",
    "print('Comparison for region ' + met + ': \\n', comp)\n",
    "print('\\nMean difference: ' + str(comp['Difference'].mean()))\n",
    "print('\\nMean difference stdev: ' + str(comp['Difference'].std()))\n",
    "comp = comp.round(decimals=3)*100\n",
    "tex = comp.to_latex()\n",
    "with open('textable-'+met+'.txt', 'w') as f: \n",
    "    f.write(tex)\n",
    "prepostplot = sb.boxplot(data=comp['Difference'], width=0.5, palette='spring')\n",
    "# assemble comprehensive table\n",
    "if met == 'wt':\n",
    "    wtcomp = comp.mean()\n",
    "if met == 'tc':\n",
    "    tccomp = comp.mean()\n",
    "if met == 'at':\n",
    "    atcomp = comp.mean()\n",
    "    \n",
    "compressed = pandas.concat([wtcomp, tccomp, atcomp], axis=1, sort=False)\n",
    "compressed = compressed.rename(columns={0: 'Whole Tumor', 1:'Tumor Core', 2:'Active Tumor'})\n",
    "compressed = compressed.round(decimals=1)\n",
    "print(compressed)\n",
    "tex2 = compressed.to_latex()\n",
    "with open('textable-complete.txt', 'w') as f: \n",
    "    f.write(tex2)"
   ]
  },
  {
   "cell_type": "code",
   "execution_count": 155,
   "metadata": {},
   "outputs": [
    {
     "name": "stdout",
     "output_type": "stream",
     "text": [
      "Mean values sorted:\n",
      "sim    0.798195\n",
      "mav    0.797255\n",
      "aju    0.797011\n",
      "ise    0.785247\n",
      "ekr    0.775286\n",
      "kch    0.765547\n",
      "aca    0.755070\n",
      "sse    0.747616\n",
      "gwa    0.747350\n",
      "rsa    0.745304\n",
      "aka    0.708905\n",
      "mag    0.631775\n",
      "dtype: float64\n",
      "\n",
      "Median sorted:\n",
      "sim    0.861112\n",
      "ise    0.858494\n",
      "aju    0.856785\n",
      "mav    0.855012\n",
      "ekr    0.844004\n",
      "kch    0.825068\n",
      "sse    0.820918\n",
      "aca    0.813874\n",
      "rsa    0.813734\n",
      "gwa    0.811814\n",
      "aka    0.758393\n",
      "mag    0.723017\n",
      "dtype: float64\n",
      "\n",
      "Standard deviation sorted:\n",
      "aju    0.169861\n",
      "sim    0.178141\n",
      "mav    0.181714\n",
      "ekr    0.188270\n",
      "aca    0.195182\n",
      "kch    0.198085\n",
      "aka    0.201247\n",
      "ise    0.201668\n",
      "gwa    0.212245\n",
      "rsa    0.215304\n",
      "sse    0.217502\n",
      "mag    0.293129\n",
      "dtype: float64\n"
     ]
    }
   ],
   "source": [
    "#sort the indices by their mean value and reorder the data frame for descending plotting\n",
    "m = data.mean()\n",
    "m_sorted = m.sort_values(ascending=False)\n",
    "print('Mean values sorted:')\n",
    "pprint(m_sorted)\n",
    "print('\\nMedian sorted:')\n",
    "pprint(data.median().sort_values(ascending=False))\n",
    "print('\\nStandard deviation sorted:')\n",
    "pprint(data.std().sort_values(ascending=True))\n",
    "indices = m_sorted.keys()\n",
    "# order dataframe by mean\n",
    "indices = indices.tolist()\n",
    "wt_ordered = data[indices]"
   ]
  },
  {
   "cell_type": "code",
   "execution_count": 156,
   "metadata": {},
   "outputs": [
    {
     "name": "stdout",
     "output_type": "stream",
     "text": [
      "      Mean  Median  Std-Dev\n",
      "aca  0.755   0.814    0.195\n",
      "aju  0.797   0.857    0.170\n",
      "aka  0.709   0.758    0.201\n",
      "ekr  0.775   0.844    0.188\n",
      "gwa  0.747   0.812    0.212\n",
      "ise  0.785   0.858    0.202\n",
      "kch  0.766   0.825    0.198\n",
      "mag  0.632   0.723    0.293\n",
      "mav  0.797   0.855    0.182\n",
      "rsa  0.745   0.814    0.215\n",
      "sim  0.798   0.861    0.178\n",
      "sse  0.748   0.821    0.218\n"
     ]
    }
   ],
   "source": [
    "# export all metrics to a table \n",
    "metrics = pandas.concat([m_sorted, data.median(), data.std()], axis=1, sort=True)\n",
    "newname = {0:'Mean', \n",
    "           1:'Median',\n",
    "           2:'Std-Dev'}\n",
    "metrics = metrics.rename(columns=newname)\n",
    "# round the values - who needs 8 decimals for such scores?!\n",
    "metrics = metrics.round(decimals=3)\n",
    "print(metrics)\n",
    "metrics.to_csv('tables/'+met+'_table.csv')"
   ]
  },
  {
   "cell_type": "markdown",
   "metadata": {},
   "source": [
    "# Fancy Boxplots for DICE Scores"
   ]
  },
  {
   "cell_type": "code",
   "execution_count": 157,
   "metadata": {},
   "outputs": [
    {
     "ename": "ValueError",
     "evalue": "The truth value of a DataFrame is ambiguous. Use a.empty, a.bool(), a.item(), a.any() or a.all().",
     "output_type": "error",
     "traceback": [
      "\u001b[0;31m---------------------------------------------------------------------------\u001b[0m",
      "\u001b[0;31mValueError\u001b[0m                                Traceback (most recent call last)",
      "\u001b[0;32m<ipython-input-157-6227070c8420>\u001b[0m in \u001b[0;36m<module>\u001b[0;34m()\u001b[0m\n\u001b[1;32m     10\u001b[0m \u001b[0mbplot\u001b[0m\u001b[0;34m.\u001b[0m\u001b[0mhlines\u001b[0m\u001b[0;34m(\u001b[0m\u001b[0mnp\u001b[0m\u001b[0;34m.\u001b[0m\u001b[0mmax\u001b[0m\u001b[0;34m(\u001b[0m\u001b[0mdata\u001b[0m\u001b[0;34m.\u001b[0m\u001b[0mmedian\u001b[0m\u001b[0;34m(\u001b[0m\u001b[0;34m)\u001b[0m\u001b[0;34m)\u001b[0m\u001b[0;34m,\u001b[0m \u001b[0;34m-\u001b[0m\u001b[0;36m100\u001b[0m\u001b[0;34m,\u001b[0m \u001b[0;36m1000\u001b[0m\u001b[0;34m,\u001b[0m \u001b[0mcolors\u001b[0m\u001b[0;34m=\u001b[0m\u001b[0;34m'r'\u001b[0m\u001b[0;34m)\u001b[0m\u001b[0;34m\u001b[0m\u001b[0m\n\u001b[1;32m     11\u001b[0m \u001b[0;31m#save the plot\u001b[0m\u001b[0;34m\u001b[0m\u001b[0;34m\u001b[0m\u001b[0m\n\u001b[0;32m---> 12\u001b[0;31m \u001b[0mbplot\u001b[0m\u001b[0;34m.\u001b[0m\u001b[0mfigure\u001b[0m\u001b[0;34m.\u001b[0m\u001b[0msavefig\u001b[0m\u001b[0;34m(\u001b[0m\u001b[0;34m'plots/'\u001b[0m\u001b[0;34m+\u001b[0m\u001b[0mmet\u001b[0m\u001b[0;34m+\u001b[0m\u001b[0;34m'_fullplot_thresh3.png'\u001b[0m\u001b[0;34m,\u001b[0m \u001b[0mformat\u001b[0m\u001b[0;34m=\u001b[0m\u001b[0mform\u001b[0m\u001b[0;34m,\u001b[0m \u001b[0mdpi\u001b[0m\u001b[0;34m=\u001b[0m\u001b[0mres\u001b[0m\u001b[0;34m)\u001b[0m\u001b[0;34m\u001b[0m\u001b[0m\n\u001b[0m",
      "\u001b[0;32m/usr/local/lib/python3.7/site-packages/matplotlib/figure.py\u001b[0m in \u001b[0;36msavefig\u001b[0;34m(self, fname, frameon, transparent, **kwargs)\u001b[0m\n\u001b[1;32m   2095\u001b[0m             \u001b[0mself\u001b[0m\u001b[0;34m.\u001b[0m\u001b[0mset_frameon\u001b[0m\u001b[0;34m(\u001b[0m\u001b[0mframeon\u001b[0m\u001b[0;34m)\u001b[0m\u001b[0;34m\u001b[0m\u001b[0m\n\u001b[1;32m   2096\u001b[0m \u001b[0;34m\u001b[0m\u001b[0m\n\u001b[0;32m-> 2097\u001b[0;31m         \u001b[0mself\u001b[0m\u001b[0;34m.\u001b[0m\u001b[0mcanvas\u001b[0m\u001b[0;34m.\u001b[0m\u001b[0mprint_figure\u001b[0m\u001b[0;34m(\u001b[0m\u001b[0mfname\u001b[0m\u001b[0;34m,\u001b[0m \u001b[0;34m**\u001b[0m\u001b[0mkwargs\u001b[0m\u001b[0;34m)\u001b[0m\u001b[0;34m\u001b[0m\u001b[0m\n\u001b[0m\u001b[1;32m   2098\u001b[0m \u001b[0;34m\u001b[0m\u001b[0m\n\u001b[1;32m   2099\u001b[0m         \u001b[0;32mif\u001b[0m \u001b[0mframeon\u001b[0m\u001b[0;34m:\u001b[0m\u001b[0;34m\u001b[0m\u001b[0m\n",
      "\u001b[0;32m/usr/local/lib/python3.7/site-packages/matplotlib/backend_bases.py\u001b[0m in \u001b[0;36mprint_figure\u001b[0;34m(self, filename, dpi, facecolor, edgecolor, orientation, format, bbox_inches, **kwargs)\u001b[0m\n\u001b[1;32m   2009\u001b[0m         \u001b[0;32mif\u001b[0m \u001b[0mdpi\u001b[0m \u001b[0;32mis\u001b[0m \u001b[0;32mNone\u001b[0m\u001b[0;34m:\u001b[0m\u001b[0;34m\u001b[0m\u001b[0m\n\u001b[1;32m   2010\u001b[0m             \u001b[0mdpi\u001b[0m \u001b[0;34m=\u001b[0m \u001b[0mrcParams\u001b[0m\u001b[0;34m[\u001b[0m\u001b[0;34m'savefig.dpi'\u001b[0m\u001b[0;34m]\u001b[0m\u001b[0;34m\u001b[0m\u001b[0m\n\u001b[0;32m-> 2011\u001b[0;31m         \u001b[0;32mif\u001b[0m \u001b[0mdpi\u001b[0m \u001b[0;34m==\u001b[0m \u001b[0;34m'figure'\u001b[0m\u001b[0;34m:\u001b[0m\u001b[0;34m\u001b[0m\u001b[0m\n\u001b[0m\u001b[1;32m   2012\u001b[0m             \u001b[0mdpi\u001b[0m \u001b[0;34m=\u001b[0m \u001b[0mgetattr\u001b[0m\u001b[0;34m(\u001b[0m\u001b[0mself\u001b[0m\u001b[0;34m.\u001b[0m\u001b[0mfigure\u001b[0m\u001b[0;34m,\u001b[0m \u001b[0;34m'_original_dpi'\u001b[0m\u001b[0;34m,\u001b[0m \u001b[0mself\u001b[0m\u001b[0;34m.\u001b[0m\u001b[0mfigure\u001b[0m\u001b[0;34m.\u001b[0m\u001b[0mdpi\u001b[0m\u001b[0;34m)\u001b[0m\u001b[0;34m\u001b[0m\u001b[0m\n\u001b[1;32m   2013\u001b[0m \u001b[0;34m\u001b[0m\u001b[0m\n",
      "\u001b[0;32m/usr/local/lib/python3.7/site-packages/pandas/core/generic.py\u001b[0m in \u001b[0;36m__nonzero__\u001b[0;34m(self)\u001b[0m\n\u001b[1;32m   1574\u001b[0m         raise ValueError(\"The truth value of a {0} is ambiguous. \"\n\u001b[1;32m   1575\u001b[0m                          \u001b[0;34m\"Use a.empty, a.bool(), a.item(), a.any() or a.all().\"\u001b[0m\u001b[0;34m\u001b[0m\u001b[0m\n\u001b[0;32m-> 1576\u001b[0;31m                          .format(self.__class__.__name__))\n\u001b[0m\u001b[1;32m   1577\u001b[0m \u001b[0;34m\u001b[0m\u001b[0m\n\u001b[1;32m   1578\u001b[0m     \u001b[0m__bool__\u001b[0m \u001b[0;34m=\u001b[0m \u001b[0m__nonzero__\u001b[0m\u001b[0;34m\u001b[0m\u001b[0m\n",
      "\u001b[0;31mValueError\u001b[0m: The truth value of a DataFrame is ambiguous. Use a.empty, a.bool(), a.item(), a.any() or a.all()."
     ]
    },
    {
     "data": {
      "image/png": "[encoded data removed]",
      "text/plain": [
       "<Figure size 432x288 with 1 Axes>"
      ]
     },
     "metadata": {
      "needs_background": "light"
     },
     "output_type": "display_data"
    }
   ],
   "source": [
    "# fig = plt.figure(figsize=(18, 16), dpi= 80, facecolor='w', edgecolor='k')\n",
    "#wt_ordered.drop(['patient'], axis=1, inplace=True)\n",
    "bplot = sb.boxplot(data=wt_ordered, \n",
    "                 width=0.5,\n",
    "                 palette=\"colorblind\")\n",
    "#bplot.axes.set_title('DICE Scores for whole tumor', fontsize=16)\n",
    "bplot.set_xlabel('Algorithms', fontsize=8)\n",
    "bplot.set_ylabel('Dice score', fontsize=8)\n",
    "#plot a horizontal line at the max mean location\n",
    "bplot.hlines(np.max(data.median()), -100, 1000, colors='r')\n",
    "#save the plot\n",
    "bplot.figure.savefig('plots/'+met+'_fullplot_thresh3.png', format=form, dpi=res)"
   ]
  },
  {
   "cell_type": "code",
   "execution_count": 158,
   "metadata": {},
   "outputs": [
    {
     "data": {
      "text/plain": [
       "Text(0, 0.5, 'Dice score')"
      ]
     },
     "execution_count": 158,
     "metadata": {},
     "output_type": "execute_result"
    },
    {
     "data": {
      "image/png": "[encoded data removed]",
      "text/plain": [
       "<Figure size 432x288 with 1 Axes>"
      ]
     },
     "metadata": {
      "needs_background": "light"
     },
     "output_type": "display_data"
    }
   ],
   "source": [
    "results = np.split(wt_ordered, [5], axis=1)\n",
    "bplot1 = sb.boxplot(data=results[0], \n",
    "                 width=0.5,\n",
    "                 palette=\"colorblind\")\n",
    "#bplot.axes.set_title('DICE Scores for whole tumor', fontsize=16)\n",
    "bplot1.set_xlabel('Algorithms', fontsize=14)\n",
    "bplot1.set_ylabel('Dice score', fontsize=14)"
   ]
  },
  {
   "cell_type": "code",
   "execution_count": 159,
   "metadata": {},
   "outputs": [
    {
     "data": {
      "text/plain": [
       "Text(0, 0.5, 'Dice score')"
      ]
     },
     "execution_count": 159,
     "metadata": {},
     "output_type": "execute_result"
    },
    {
     "data": {
      "image/png": "[encoded data removed]",
      "text/plain": [
       "<Figure size 432x288 with 1 Axes>"
      ]
     },
     "metadata": {
      "needs_background": "light"
     },
     "output_type": "display_data"
    }
   ],
   "source": [
    "bplot2 = sb.boxplot(data=results[1], \n",
    "                 width=0.5,\n",
    "                 palette=\"colorblind\")\n",
    "#bplot.axes.set_title('DICE Scores for whole tumor', fontsize=16)\n",
    "bplot2.set_xlabel('Algorithms', fontsize=14)\n",
    "bplot2.set_ylabel('Dice score', fontsize=14)"
   ]
  },
  {
   "cell_type": "code",
   "execution_count": 160,
   "metadata": {},
   "outputs": [],
   "source": [
    "#save all of it\n",
    "#bplot1.figure.savefig(met+'_boxplot1.png', format=form, dpi=res)\n",
    "#bplot2.figure.savefig(met+'_boxplot2.png', format=form, dpi=res)\n",
    "#cl.savefig('clustermap.png', format=form, dpi=res)"
   ]
  },
  {
   "cell_type": "markdown",
   "metadata": {},
   "source": [
    "## Cluster Map"
   ]
  },
  {
   "cell_type": "code",
   "execution_count": 161,
   "metadata": {
    "scrolled": false
   },
   "outputs": [
    {
     "data": {
      "image/png": "[encoded data removed]",
      "text/plain": [
       "<Figure size 720x720 with 4 Axes>"
      ]
     },
     "metadata": {
      "needs_background": "light"
     },
     "output_type": "display_data"
    }
   ],
   "source": [
    "cl = sb.clustermap(wt_ordered, method='complete')\n",
    "#cl.savefig('clustermap.png', format=form, dpi=res)"
   ]
  },
  {
   "cell_type": "markdown",
   "metadata": {},
   "source": [
    "## Compound table for DICE"
   ]
  },
  {
   "cell_type": "code",
   "execution_count": 162,
   "metadata": {
    "scrolled": true
   },
   "outputs": [
    {
     "ename": "FileNotFoundError",
     "evalue": "File b'fixed_data/whole_clean.csv' does not exist",
     "output_type": "error",
     "traceback": [
      "\u001b[0;31m---------------------------------------------------------------------------\u001b[0m",
      "\u001b[0;31mFileNotFoundError\u001b[0m                         Traceback (most recent call last)",
      "\u001b[0;32m<ipython-input-162-7667e3574fbc>\u001b[0m in \u001b[0;36m<module>\u001b[0;34m()\u001b[0m\n\u001b[1;32m      1\u001b[0m \u001b[0mdata\u001b[0m \u001b[0;34m=\u001b[0m \u001b[0mpandas\u001b[0m\u001b[0;34m.\u001b[0m\u001b[0mread_csv\u001b[0m\u001b[0;34m(\u001b[0m\u001b[0;34m'wt_dice_scores.csv'\u001b[0m\u001b[0;34m)\u001b[0m\u001b[0;34m\u001b[0m\u001b[0m\n\u001b[0;32m----> 2\u001b[0;31m \u001b[0mwt_scores\u001b[0m \u001b[0;34m=\u001b[0m \u001b[0mpreprocessor\u001b[0m\u001b[0;34m(\u001b[0m\u001b[0mdata\u001b[0m\u001b[0;34m,\u001b[0m \u001b[0;34m'whole'\u001b[0m\u001b[0;34m)\u001b[0m\u001b[0;34m\u001b[0m\u001b[0m\n\u001b[0m\u001b[1;32m      3\u001b[0m \u001b[0mtc_scores\u001b[0m \u001b[0;34m=\u001b[0m \u001b[0mpreprocessor\u001b[0m\u001b[0;34m(\u001b[0m\u001b[0mpandas\u001b[0m\u001b[0;34m.\u001b[0m\u001b[0mread_csv\u001b[0m\u001b[0;34m(\u001b[0m\u001b[0;34m'tc_dice_scores.csv'\u001b[0m\u001b[0;34m)\u001b[0m\u001b[0;34m,\u001b[0m \u001b[0;34m'core'\u001b[0m\u001b[0;34m)\u001b[0m\u001b[0;34m\u001b[0m\u001b[0m\n\u001b[1;32m      4\u001b[0m \u001b[0mat_scores\u001b[0m \u001b[0;34m=\u001b[0m \u001b[0mpreprocessor\u001b[0m\u001b[0;34m(\u001b[0m\u001b[0mpandas\u001b[0m\u001b[0;34m.\u001b[0m\u001b[0mread_csv\u001b[0m\u001b[0;34m(\u001b[0m\u001b[0;34m'at_dice_scores.csv'\u001b[0m\u001b[0;34m)\u001b[0m\u001b[0;34m,\u001b[0m \u001b[0;34m'active'\u001b[0m\u001b[0;34m)\u001b[0m\u001b[0;34m\u001b[0m\u001b[0m\n\u001b[1;32m      5\u001b[0m \u001b[0mwt_scores\u001b[0m\u001b[0;34m.\u001b[0m\u001b[0mdescribe\u001b[0m\u001b[0;34m(\u001b[0m\u001b[0;34m)\u001b[0m\u001b[0;34m\u001b[0m\u001b[0m\n",
      "\u001b[0;32m<ipython-input-136-eb8c72b3e177>\u001b[0m in \u001b[0;36mpreprocessor\u001b[0;34m(data, met)\u001b[0m\n\u001b[1;32m     13\u001b[0m     \u001b[0mclean\u001b[0m\u001b[0;34m.\u001b[0m\u001b[0mto_csv\u001b[0m\u001b[0;34m(\u001b[0m\u001b[0mmet\u001b[0m\u001b[0;34m+\u001b[0m\u001b[0;34m'_clean.csv'\u001b[0m\u001b[0;34m)\u001b[0m\u001b[0;34m\u001b[0m\u001b[0m\n\u001b[1;32m     14\u001b[0m     \u001b[0;31m# read a clean copy of the preprocessed csv again\u001b[0m\u001b[0;34m\u001b[0m\u001b[0;34m\u001b[0m\u001b[0m\n\u001b[0;32m---> 15\u001b[0;31m     \u001b[0mdata\u001b[0m \u001b[0;34m=\u001b[0m \u001b[0mpandas\u001b[0m\u001b[0;34m.\u001b[0m\u001b[0mread_csv\u001b[0m\u001b[0;34m(\u001b[0m\u001b[0;34m'fixed_data/'\u001b[0m\u001b[0;34m+\u001b[0m\u001b[0mmet\u001b[0m\u001b[0;34m+\u001b[0m\u001b[0;34m'_clean.csv'\u001b[0m\u001b[0;34m)\u001b[0m\u001b[0;34m\u001b[0m\u001b[0m\n\u001b[0m\u001b[1;32m     16\u001b[0m     \u001b[0;31m# remove wrong row indices\u001b[0m\u001b[0;34m\u001b[0m\u001b[0;34m\u001b[0m\u001b[0m\n\u001b[1;32m     17\u001b[0m     \u001b[0mdata\u001b[0m \u001b[0;34m=\u001b[0m \u001b[0mdata\u001b[0m\u001b[0;34m.\u001b[0m\u001b[0mdrop\u001b[0m\u001b[0;34m(\u001b[0m\u001b[0;34m'Unnamed: 0'\u001b[0m\u001b[0;34m,\u001b[0m \u001b[0maxis\u001b[0m\u001b[0;34m=\u001b[0m\u001b[0;36m1\u001b[0m\u001b[0;34m)\u001b[0m\u001b[0;34m\u001b[0m\u001b[0m\n",
      "\u001b[0;32m/usr/local/lib/python3.7/site-packages/pandas/io/parsers.py\u001b[0m in \u001b[0;36mparser_f\u001b[0;34m(filepath_or_buffer, sep, delimiter, header, names, index_col, usecols, squeeze, prefix, mangle_dupe_cols, dtype, engine, converters, true_values, false_values, skipinitialspace, skiprows, nrows, na_values, keep_default_na, na_filter, verbose, skip_blank_lines, parse_dates, infer_datetime_format, keep_date_col, date_parser, dayfirst, iterator, chunksize, compression, thousands, decimal, lineterminator, quotechar, quoting, escapechar, comment, encoding, dialect, tupleize_cols, error_bad_lines, warn_bad_lines, skipfooter, doublequote, delim_whitespace, low_memory, memory_map, float_precision)\u001b[0m\n\u001b[1;32m    676\u001b[0m                     skip_blank_lines=skip_blank_lines)\n\u001b[1;32m    677\u001b[0m \u001b[0;34m\u001b[0m\u001b[0m\n\u001b[0;32m--> 678\u001b[0;31m         \u001b[0;32mreturn\u001b[0m \u001b[0m_read\u001b[0m\u001b[0;34m(\u001b[0m\u001b[0mfilepath_or_buffer\u001b[0m\u001b[0;34m,\u001b[0m \u001b[0mkwds\u001b[0m\u001b[0;34m)\u001b[0m\u001b[0;34m\u001b[0m\u001b[0m\n\u001b[0m\u001b[1;32m    679\u001b[0m \u001b[0;34m\u001b[0m\u001b[0m\n\u001b[1;32m    680\u001b[0m     \u001b[0mparser_f\u001b[0m\u001b[0;34m.\u001b[0m\u001b[0m__name__\u001b[0m \u001b[0;34m=\u001b[0m \u001b[0mname\u001b[0m\u001b[0;34m\u001b[0m\u001b[0m\n",
      "\u001b[0;32m/usr/local/lib/python3.7/site-packages/pandas/io/parsers.py\u001b[0m in \u001b[0;36m_read\u001b[0;34m(filepath_or_buffer, kwds)\u001b[0m\n\u001b[1;32m    438\u001b[0m \u001b[0;34m\u001b[0m\u001b[0m\n\u001b[1;32m    439\u001b[0m     \u001b[0;31m# Create the parser.\u001b[0m\u001b[0;34m\u001b[0m\u001b[0;34m\u001b[0m\u001b[0m\n\u001b[0;32m--> 440\u001b[0;31m     \u001b[0mparser\u001b[0m \u001b[0;34m=\u001b[0m \u001b[0mTextFileReader\u001b[0m\u001b[0;34m(\u001b[0m\u001b[0mfilepath_or_buffer\u001b[0m\u001b[0;34m,\u001b[0m \u001b[0;34m**\u001b[0m\u001b[0mkwds\u001b[0m\u001b[0;34m)\u001b[0m\u001b[0;34m\u001b[0m\u001b[0m\n\u001b[0m\u001b[1;32m    441\u001b[0m \u001b[0;34m\u001b[0m\u001b[0m\n\u001b[1;32m    442\u001b[0m     \u001b[0;32mif\u001b[0m \u001b[0mchunksize\u001b[0m \u001b[0;32mor\u001b[0m \u001b[0miterator\u001b[0m\u001b[0;34m:\u001b[0m\u001b[0;34m\u001b[0m\u001b[0m\n",
      "\u001b[0;32m/usr/local/lib/python3.7/site-packages/pandas/io/parsers.py\u001b[0m in \u001b[0;36m__init__\u001b[0;34m(self, f, engine, **kwds)\u001b[0m\n\u001b[1;32m    785\u001b[0m             \u001b[0mself\u001b[0m\u001b[0;34m.\u001b[0m\u001b[0moptions\u001b[0m\u001b[0;34m[\u001b[0m\u001b[0;34m'has_index_names'\u001b[0m\u001b[0;34m]\u001b[0m \u001b[0;34m=\u001b[0m \u001b[0mkwds\u001b[0m\u001b[0;34m[\u001b[0m\u001b[0;34m'has_index_names'\u001b[0m\u001b[0;34m]\u001b[0m\u001b[0;34m\u001b[0m\u001b[0m\n\u001b[1;32m    786\u001b[0m \u001b[0;34m\u001b[0m\u001b[0m\n\u001b[0;32m--> 787\u001b[0;31m         \u001b[0mself\u001b[0m\u001b[0;34m.\u001b[0m\u001b[0m_make_engine\u001b[0m\u001b[0;34m(\u001b[0m\u001b[0mself\u001b[0m\u001b[0;34m.\u001b[0m\u001b[0mengine\u001b[0m\u001b[0;34m)\u001b[0m\u001b[0;34m\u001b[0m\u001b[0m\n\u001b[0m\u001b[1;32m    788\u001b[0m \u001b[0;34m\u001b[0m\u001b[0m\n\u001b[1;32m    789\u001b[0m     \u001b[0;32mdef\u001b[0m \u001b[0mclose\u001b[0m\u001b[0;34m(\u001b[0m\u001b[0mself\u001b[0m\u001b[0;34m)\u001b[0m\u001b[0;34m:\u001b[0m\u001b[0;34m\u001b[0m\u001b[0m\n",
      "\u001b[0;32m/usr/local/lib/python3.7/site-packages/pandas/io/parsers.py\u001b[0m in \u001b[0;36m_make_engine\u001b[0;34m(self, engine)\u001b[0m\n\u001b[1;32m   1012\u001b[0m     \u001b[0;32mdef\u001b[0m \u001b[0m_make_engine\u001b[0m\u001b[0;34m(\u001b[0m\u001b[0mself\u001b[0m\u001b[0;34m,\u001b[0m \u001b[0mengine\u001b[0m\u001b[0;34m=\u001b[0m\u001b[0;34m'c'\u001b[0m\u001b[0;34m)\u001b[0m\u001b[0;34m:\u001b[0m\u001b[0;34m\u001b[0m\u001b[0m\n\u001b[1;32m   1013\u001b[0m         \u001b[0;32mif\u001b[0m \u001b[0mengine\u001b[0m \u001b[0;34m==\u001b[0m \u001b[0;34m'c'\u001b[0m\u001b[0;34m:\u001b[0m\u001b[0;34m\u001b[0m\u001b[0m\n\u001b[0;32m-> 1014\u001b[0;31m             \u001b[0mself\u001b[0m\u001b[0;34m.\u001b[0m\u001b[0m_engine\u001b[0m \u001b[0;34m=\u001b[0m \u001b[0mCParserWrapper\u001b[0m\u001b[0;34m(\u001b[0m\u001b[0mself\u001b[0m\u001b[0;34m.\u001b[0m\u001b[0mf\u001b[0m\u001b[0;34m,\u001b[0m \u001b[0;34m**\u001b[0m\u001b[0mself\u001b[0m\u001b[0;34m.\u001b[0m\u001b[0moptions\u001b[0m\u001b[0;34m)\u001b[0m\u001b[0;34m\u001b[0m\u001b[0m\n\u001b[0m\u001b[1;32m   1015\u001b[0m         \u001b[0;32melse\u001b[0m\u001b[0;34m:\u001b[0m\u001b[0;34m\u001b[0m\u001b[0m\n\u001b[1;32m   1016\u001b[0m             \u001b[0;32mif\u001b[0m \u001b[0mengine\u001b[0m \u001b[0;34m==\u001b[0m \u001b[0;34m'python'\u001b[0m\u001b[0;34m:\u001b[0m\u001b[0;34m\u001b[0m\u001b[0m\n",
      "\u001b[0;32m/usr/local/lib/python3.7/site-packages/pandas/io/parsers.py\u001b[0m in \u001b[0;36m__init__\u001b[0;34m(self, src, **kwds)\u001b[0m\n\u001b[1;32m   1706\u001b[0m         \u001b[0mkwds\u001b[0m\u001b[0;34m[\u001b[0m\u001b[0;34m'usecols'\u001b[0m\u001b[0;34m]\u001b[0m \u001b[0;34m=\u001b[0m \u001b[0mself\u001b[0m\u001b[0;34m.\u001b[0m\u001b[0musecols\u001b[0m\u001b[0;34m\u001b[0m\u001b[0m\n\u001b[1;32m   1707\u001b[0m \u001b[0;34m\u001b[0m\u001b[0m\n\u001b[0;32m-> 1708\u001b[0;31m         \u001b[0mself\u001b[0m\u001b[0;34m.\u001b[0m\u001b[0m_reader\u001b[0m \u001b[0;34m=\u001b[0m \u001b[0mparsers\u001b[0m\u001b[0;34m.\u001b[0m\u001b[0mTextReader\u001b[0m\u001b[0;34m(\u001b[0m\u001b[0msrc\u001b[0m\u001b[0;34m,\u001b[0m \u001b[0;34m**\u001b[0m\u001b[0mkwds\u001b[0m\u001b[0;34m)\u001b[0m\u001b[0;34m\u001b[0m\u001b[0m\n\u001b[0m\u001b[1;32m   1709\u001b[0m \u001b[0;34m\u001b[0m\u001b[0m\n\u001b[1;32m   1710\u001b[0m         \u001b[0mpassed_names\u001b[0m \u001b[0;34m=\u001b[0m \u001b[0mself\u001b[0m\u001b[0;34m.\u001b[0m\u001b[0mnames\u001b[0m \u001b[0;32mis\u001b[0m \u001b[0;32mNone\u001b[0m\u001b[0;34m\u001b[0m\u001b[0m\n",
      "\u001b[0;32mpandas/_libs/parsers.pyx\u001b[0m in \u001b[0;36mpandas._libs.parsers.TextReader.__cinit__\u001b[0;34m()\u001b[0m\n",
      "\u001b[0;32mpandas/_libs/parsers.pyx\u001b[0m in \u001b[0;36mpandas._libs.parsers.TextReader._setup_parser_source\u001b[0;34m()\u001b[0m\n",
      "\u001b[0;31mFileNotFoundError\u001b[0m: File b'fixed_data/whole_clean.csv' does not exist"
     ]
    }
   ],
   "source": [
    "data = pandas.read_csv('wt_dice_scores.csv')\n",
    "wt_scores = preprocessor(data, 'whole')\n",
    "tc_scores = preprocessor(pandas.read_csv('tc_dice_scores.csv'), 'core')\n",
    "at_scores = preprocessor(pandas.read_csv('at_dice_scores.csv'), 'active')\n",
    "wt_scores.describe()"
   ]
  },
  {
   "cell_type": "code",
   "execution_count": 163,
   "metadata": {},
   "outputs": [
    {
     "ename": "NameError",
     "evalue": "name 'wt_scores' is not defined",
     "output_type": "error",
     "traceback": [
      "\u001b[0;31m---------------------------------------------------------------------------\u001b[0m",
      "\u001b[0;31mNameError\u001b[0m                                 Traceback (most recent call last)",
      "\u001b[0;32m<ipython-input-163-042477574a15>\u001b[0m in \u001b[0;36m<module>\u001b[0;34m()\u001b[0m\n\u001b[0;32m----> 1\u001b[0;31m \u001b[0mwt_m\u001b[0m \u001b[0;34m=\u001b[0m \u001b[0mwt_scores\u001b[0m\u001b[0;34m.\u001b[0m\u001b[0mmedian\u001b[0m\u001b[0;34m(\u001b[0m\u001b[0;34m)\u001b[0m\u001b[0;34m\u001b[0m\u001b[0m\n\u001b[0m\u001b[1;32m      2\u001b[0m \u001b[0mtc_m\u001b[0m \u001b[0;34m=\u001b[0m \u001b[0mtc_scores\u001b[0m\u001b[0;34m.\u001b[0m\u001b[0mmedian\u001b[0m\u001b[0;34m(\u001b[0m\u001b[0;34m)\u001b[0m\u001b[0;34m\u001b[0m\u001b[0m\n\u001b[1;32m      3\u001b[0m \u001b[0mat_m\u001b[0m \u001b[0;34m=\u001b[0m \u001b[0mat_scores\u001b[0m\u001b[0;34m.\u001b[0m\u001b[0mmedian\u001b[0m\u001b[0;34m(\u001b[0m\u001b[0;34m)\u001b[0m\u001b[0;34m\u001b[0m\u001b[0m\n\u001b[1;32m      4\u001b[0m \u001b[0mbobby\u001b[0m \u001b[0;34m=\u001b[0m \u001b[0mpandas\u001b[0m\u001b[0;34m.\u001b[0m\u001b[0mconcat\u001b[0m\u001b[0;34m(\u001b[0m\u001b[0;34m[\u001b[0m\u001b[0mwt_m\u001b[0m\u001b[0;34m,\u001b[0m \u001b[0mtc_m\u001b[0m\u001b[0;34m,\u001b[0m \u001b[0mat_m\u001b[0m\u001b[0;34m]\u001b[0m\u001b[0;34m,\u001b[0m \u001b[0maxis\u001b[0m\u001b[0;34m=\u001b[0m\u001b[0;36m1\u001b[0m\u001b[0;34m,\u001b[0m \u001b[0msort\u001b[0m\u001b[0;34m=\u001b[0m\u001b[0;32mTrue\u001b[0m\u001b[0;34m)\u001b[0m\u001b[0;34m\u001b[0m\u001b[0m\n\u001b[1;32m      5\u001b[0m newkidz = {\n",
      "\u001b[0;31mNameError\u001b[0m: name 'wt_scores' is not defined"
     ]
    }
   ],
   "source": [
    "wt_m = wt_scores.median()\n",
    "tc_m = tc_scores.median()\n",
    "at_m = at_scores.median()\n",
    "bobby = pandas.concat([wt_m, tc_m, at_m], axis=1, sort=True)\n",
    "newkidz = {\n",
    "    0 : 'WT',\n",
    "    1 : 'TC',\n",
    "    2 : 'AT'\n",
    "}\n",
    "bobby = bobby.rename(columns=newkidz)\n",
    "bobby = bobby.round(decimals=3)*100\n",
    "bobby.to_csv('tables/concisedice.csv')"
   ]
  },
  {
   "cell_type": "markdown",
   "metadata": {},
   "source": [
    "## Specificity and Sensitivity Plotting"
   ]
  },
  {
   "cell_type": "code",
   "execution_count": 164,
   "metadata": {},
   "outputs": [
    {
     "ename": "FileNotFoundError",
     "evalue": "File b'fixed_data/wt-spec_clean.csv' does not exist",
     "output_type": "error",
     "traceback": [
      "\u001b[0;31m---------------------------------------------------------------------------\u001b[0m",
      "\u001b[0;31mFileNotFoundError\u001b[0m                         Traceback (most recent call last)",
      "\u001b[0;32m<ipython-input-164-b96a1cd478b4>\u001b[0m in \u001b[0;36m<module>\u001b[0;34m()\u001b[0m\n\u001b[1;32m      1\u001b[0m \u001b[0;31m# load data\u001b[0m\u001b[0;34m\u001b[0m\u001b[0;34m\u001b[0m\u001b[0m\n\u001b[0;32m----> 2\u001b[0;31m \u001b[0mwt_spec\u001b[0m \u001b[0;34m=\u001b[0m \u001b[0mpreprocessor\u001b[0m\u001b[0;34m(\u001b[0m\u001b[0mpandas\u001b[0m\u001b[0;34m.\u001b[0m\u001b[0mread_csv\u001b[0m\u001b[0;34m(\u001b[0m\u001b[0;34m'specificity/wt_scores.csv'\u001b[0m\u001b[0;34m)\u001b[0m\u001b[0;34m,\u001b[0m \u001b[0;34m'wt-spec'\u001b[0m\u001b[0;34m)\u001b[0m\u001b[0;34m\u001b[0m\u001b[0m\n\u001b[0m\u001b[1;32m      3\u001b[0m \u001b[0mtc_spec\u001b[0m \u001b[0;34m=\u001b[0m \u001b[0mpreprocessor\u001b[0m\u001b[0;34m(\u001b[0m\u001b[0mpandas\u001b[0m\u001b[0;34m.\u001b[0m\u001b[0mread_csv\u001b[0m\u001b[0;34m(\u001b[0m\u001b[0;34m'specificity/tc_scores.csv'\u001b[0m\u001b[0;34m)\u001b[0m\u001b[0;34m,\u001b[0m \u001b[0;34m'tc-spec'\u001b[0m\u001b[0;34m)\u001b[0m\u001b[0;34m\u001b[0m\u001b[0m\n\u001b[1;32m      4\u001b[0m \u001b[0mat_spec\u001b[0m \u001b[0;34m=\u001b[0m \u001b[0mpreprocessor\u001b[0m\u001b[0;34m(\u001b[0m\u001b[0mpandas\u001b[0m\u001b[0;34m.\u001b[0m\u001b[0mread_csv\u001b[0m\u001b[0;34m(\u001b[0m\u001b[0;34m'specificity/at_scores.csv'\u001b[0m\u001b[0;34m)\u001b[0m\u001b[0;34m,\u001b[0m \u001b[0;34m'at-spec'\u001b[0m\u001b[0;34m)\u001b[0m\u001b[0;34m\u001b[0m\u001b[0m\n\u001b[1;32m      5\u001b[0m \u001b[0;34m\u001b[0m\u001b[0m\n",
      "\u001b[0;32m<ipython-input-136-eb8c72b3e177>\u001b[0m in \u001b[0;36mpreprocessor\u001b[0;34m(data, met)\u001b[0m\n\u001b[1;32m     13\u001b[0m     \u001b[0mclean\u001b[0m\u001b[0;34m.\u001b[0m\u001b[0mto_csv\u001b[0m\u001b[0;34m(\u001b[0m\u001b[0mmet\u001b[0m\u001b[0;34m+\u001b[0m\u001b[0;34m'_clean.csv'\u001b[0m\u001b[0;34m)\u001b[0m\u001b[0;34m\u001b[0m\u001b[0m\n\u001b[1;32m     14\u001b[0m     \u001b[0;31m# read a clean copy of the preprocessed csv again\u001b[0m\u001b[0;34m\u001b[0m\u001b[0;34m\u001b[0m\u001b[0m\n\u001b[0;32m---> 15\u001b[0;31m     \u001b[0mdata\u001b[0m \u001b[0;34m=\u001b[0m \u001b[0mpandas\u001b[0m\u001b[0;34m.\u001b[0m\u001b[0mread_csv\u001b[0m\u001b[0;34m(\u001b[0m\u001b[0;34m'fixed_data/'\u001b[0m\u001b[0;34m+\u001b[0m\u001b[0mmet\u001b[0m\u001b[0;34m+\u001b[0m\u001b[0;34m'_clean.csv'\u001b[0m\u001b[0;34m)\u001b[0m\u001b[0;34m\u001b[0m\u001b[0m\n\u001b[0m\u001b[1;32m     16\u001b[0m     \u001b[0;31m# remove wrong row indices\u001b[0m\u001b[0;34m\u001b[0m\u001b[0;34m\u001b[0m\u001b[0m\n\u001b[1;32m     17\u001b[0m     \u001b[0mdata\u001b[0m \u001b[0;34m=\u001b[0m \u001b[0mdata\u001b[0m\u001b[0;34m.\u001b[0m\u001b[0mdrop\u001b[0m\u001b[0;34m(\u001b[0m\u001b[0;34m'Unnamed: 0'\u001b[0m\u001b[0;34m,\u001b[0m \u001b[0maxis\u001b[0m\u001b[0;34m=\u001b[0m\u001b[0;36m1\u001b[0m\u001b[0;34m)\u001b[0m\u001b[0;34m\u001b[0m\u001b[0m\n",
      "\u001b[0;32m/usr/local/lib/python3.7/site-packages/pandas/io/parsers.py\u001b[0m in \u001b[0;36mparser_f\u001b[0;34m(filepath_or_buffer, sep, delimiter, header, names, index_col, usecols, squeeze, prefix, mangle_dupe_cols, dtype, engine, converters, true_values, false_values, skipinitialspace, skiprows, nrows, na_values, keep_default_na, na_filter, verbose, skip_blank_lines, parse_dates, infer_datetime_format, keep_date_col, date_parser, dayfirst, iterator, chunksize, compression, thousands, decimal, lineterminator, quotechar, quoting, escapechar, comment, encoding, dialect, tupleize_cols, error_bad_lines, warn_bad_lines, skipfooter, doublequote, delim_whitespace, low_memory, memory_map, float_precision)\u001b[0m\n\u001b[1;32m    676\u001b[0m                     skip_blank_lines=skip_blank_lines)\n\u001b[1;32m    677\u001b[0m \u001b[0;34m\u001b[0m\u001b[0m\n\u001b[0;32m--> 678\u001b[0;31m         \u001b[0;32mreturn\u001b[0m \u001b[0m_read\u001b[0m\u001b[0;34m(\u001b[0m\u001b[0mfilepath_or_buffer\u001b[0m\u001b[0;34m,\u001b[0m \u001b[0mkwds\u001b[0m\u001b[0;34m)\u001b[0m\u001b[0;34m\u001b[0m\u001b[0m\n\u001b[0m\u001b[1;32m    679\u001b[0m \u001b[0;34m\u001b[0m\u001b[0m\n\u001b[1;32m    680\u001b[0m     \u001b[0mparser_f\u001b[0m\u001b[0;34m.\u001b[0m\u001b[0m__name__\u001b[0m \u001b[0;34m=\u001b[0m \u001b[0mname\u001b[0m\u001b[0;34m\u001b[0m\u001b[0m\n",
      "\u001b[0;32m/usr/local/lib/python3.7/site-packages/pandas/io/parsers.py\u001b[0m in \u001b[0;36m_read\u001b[0;34m(filepath_or_buffer, kwds)\u001b[0m\n\u001b[1;32m    438\u001b[0m \u001b[0;34m\u001b[0m\u001b[0m\n\u001b[1;32m    439\u001b[0m     \u001b[0;31m# Create the parser.\u001b[0m\u001b[0;34m\u001b[0m\u001b[0;34m\u001b[0m\u001b[0m\n\u001b[0;32m--> 440\u001b[0;31m     \u001b[0mparser\u001b[0m \u001b[0;34m=\u001b[0m \u001b[0mTextFileReader\u001b[0m\u001b[0;34m(\u001b[0m\u001b[0mfilepath_or_buffer\u001b[0m\u001b[0;34m,\u001b[0m \u001b[0;34m**\u001b[0m\u001b[0mkwds\u001b[0m\u001b[0;34m)\u001b[0m\u001b[0;34m\u001b[0m\u001b[0m\n\u001b[0m\u001b[1;32m    441\u001b[0m \u001b[0;34m\u001b[0m\u001b[0m\n\u001b[1;32m    442\u001b[0m     \u001b[0;32mif\u001b[0m \u001b[0mchunksize\u001b[0m \u001b[0;32mor\u001b[0m \u001b[0miterator\u001b[0m\u001b[0;34m:\u001b[0m\u001b[0;34m\u001b[0m\u001b[0m\n",
      "\u001b[0;32m/usr/local/lib/python3.7/site-packages/pandas/io/parsers.py\u001b[0m in \u001b[0;36m__init__\u001b[0;34m(self, f, engine, **kwds)\u001b[0m\n\u001b[1;32m    785\u001b[0m             \u001b[0mself\u001b[0m\u001b[0;34m.\u001b[0m\u001b[0moptions\u001b[0m\u001b[0;34m[\u001b[0m\u001b[0;34m'has_index_names'\u001b[0m\u001b[0;34m]\u001b[0m \u001b[0;34m=\u001b[0m \u001b[0mkwds\u001b[0m\u001b[0;34m[\u001b[0m\u001b[0;34m'has_index_names'\u001b[0m\u001b[0;34m]\u001b[0m\u001b[0;34m\u001b[0m\u001b[0m\n\u001b[1;32m    786\u001b[0m \u001b[0;34m\u001b[0m\u001b[0m\n\u001b[0;32m--> 787\u001b[0;31m         \u001b[0mself\u001b[0m\u001b[0;34m.\u001b[0m\u001b[0m_make_engine\u001b[0m\u001b[0;34m(\u001b[0m\u001b[0mself\u001b[0m\u001b[0;34m.\u001b[0m\u001b[0mengine\u001b[0m\u001b[0;34m)\u001b[0m\u001b[0;34m\u001b[0m\u001b[0m\n\u001b[0m\u001b[1;32m    788\u001b[0m \u001b[0;34m\u001b[0m\u001b[0m\n\u001b[1;32m    789\u001b[0m     \u001b[0;32mdef\u001b[0m \u001b[0mclose\u001b[0m\u001b[0;34m(\u001b[0m\u001b[0mself\u001b[0m\u001b[0;34m)\u001b[0m\u001b[0;34m:\u001b[0m\u001b[0;34m\u001b[0m\u001b[0m\n",
      "\u001b[0;32m/usr/local/lib/python3.7/site-packages/pandas/io/parsers.py\u001b[0m in \u001b[0;36m_make_engine\u001b[0;34m(self, engine)\u001b[0m\n\u001b[1;32m   1012\u001b[0m     \u001b[0;32mdef\u001b[0m \u001b[0m_make_engine\u001b[0m\u001b[0;34m(\u001b[0m\u001b[0mself\u001b[0m\u001b[0;34m,\u001b[0m \u001b[0mengine\u001b[0m\u001b[0;34m=\u001b[0m\u001b[0;34m'c'\u001b[0m\u001b[0;34m)\u001b[0m\u001b[0;34m:\u001b[0m\u001b[0;34m\u001b[0m\u001b[0m\n\u001b[1;32m   1013\u001b[0m         \u001b[0;32mif\u001b[0m \u001b[0mengine\u001b[0m \u001b[0;34m==\u001b[0m \u001b[0;34m'c'\u001b[0m\u001b[0;34m:\u001b[0m\u001b[0;34m\u001b[0m\u001b[0m\n\u001b[0;32m-> 1014\u001b[0;31m             \u001b[0mself\u001b[0m\u001b[0;34m.\u001b[0m\u001b[0m_engine\u001b[0m \u001b[0;34m=\u001b[0m \u001b[0mCParserWrapper\u001b[0m\u001b[0;34m(\u001b[0m\u001b[0mself\u001b[0m\u001b[0;34m.\u001b[0m\u001b[0mf\u001b[0m\u001b[0;34m,\u001b[0m \u001b[0;34m**\u001b[0m\u001b[0mself\u001b[0m\u001b[0;34m.\u001b[0m\u001b[0moptions\u001b[0m\u001b[0;34m)\u001b[0m\u001b[0;34m\u001b[0m\u001b[0m\n\u001b[0m\u001b[1;32m   1015\u001b[0m         \u001b[0;32melse\u001b[0m\u001b[0;34m:\u001b[0m\u001b[0;34m\u001b[0m\u001b[0m\n\u001b[1;32m   1016\u001b[0m             \u001b[0;32mif\u001b[0m \u001b[0mengine\u001b[0m \u001b[0;34m==\u001b[0m \u001b[0;34m'python'\u001b[0m\u001b[0;34m:\u001b[0m\u001b[0;34m\u001b[0m\u001b[0m\n",
      "\u001b[0;32m/usr/local/lib/python3.7/site-packages/pandas/io/parsers.py\u001b[0m in \u001b[0;36m__init__\u001b[0;34m(self, src, **kwds)\u001b[0m\n\u001b[1;32m   1706\u001b[0m         \u001b[0mkwds\u001b[0m\u001b[0;34m[\u001b[0m\u001b[0;34m'usecols'\u001b[0m\u001b[0;34m]\u001b[0m \u001b[0;34m=\u001b[0m \u001b[0mself\u001b[0m\u001b[0;34m.\u001b[0m\u001b[0musecols\u001b[0m\u001b[0;34m\u001b[0m\u001b[0m\n\u001b[1;32m   1707\u001b[0m \u001b[0;34m\u001b[0m\u001b[0m\n\u001b[0;32m-> 1708\u001b[0;31m         \u001b[0mself\u001b[0m\u001b[0;34m.\u001b[0m\u001b[0m_reader\u001b[0m \u001b[0;34m=\u001b[0m \u001b[0mparsers\u001b[0m\u001b[0;34m.\u001b[0m\u001b[0mTextReader\u001b[0m\u001b[0;34m(\u001b[0m\u001b[0msrc\u001b[0m\u001b[0;34m,\u001b[0m \u001b[0;34m**\u001b[0m\u001b[0mkwds\u001b[0m\u001b[0;34m)\u001b[0m\u001b[0;34m\u001b[0m\u001b[0m\n\u001b[0m\u001b[1;32m   1709\u001b[0m \u001b[0;34m\u001b[0m\u001b[0m\n\u001b[1;32m   1710\u001b[0m         \u001b[0mpassed_names\u001b[0m \u001b[0;34m=\u001b[0m \u001b[0mself\u001b[0m\u001b[0;34m.\u001b[0m\u001b[0mnames\u001b[0m \u001b[0;32mis\u001b[0m \u001b[0;32mNone\u001b[0m\u001b[0;34m\u001b[0m\u001b[0m\n",
      "\u001b[0;32mpandas/_libs/parsers.pyx\u001b[0m in \u001b[0;36mpandas._libs.parsers.TextReader.__cinit__\u001b[0;34m()\u001b[0m\n",
      "\u001b[0;32mpandas/_libs/parsers.pyx\u001b[0m in \u001b[0;36mpandas._libs.parsers.TextReader._setup_parser_source\u001b[0;34m()\u001b[0m\n",
      "\u001b[0;31mFileNotFoundError\u001b[0m: File b'fixed_data/wt-spec_clean.csv' does not exist"
     ]
    }
   ],
   "source": [
    "# load data \n",
    "wt_spec = preprocessor(pandas.read_csv('specificity/wt_scores.csv'), 'wt-spec')\n",
    "tc_spec = preprocessor(pandas.read_csv('specificity/tc_scores.csv'), 'tc-spec')\n",
    "at_spec = preprocessor(pandas.read_csv('specificity/at_scores.csv'), 'at-spec')\n",
    "\n",
    "wt_sens = preprocessor(pandas.read_csv('sensitivity/wt_scores.csv'), 'wt-sens')\n",
    "tc_sens = preprocessor(pandas.read_csv('sensitivity/tc_scores.csv'), 'tc-sens')\n",
    "at_sens = preprocessor(pandas.read_csv('sensitivity/at_scores.csv'), 'at-sens')\n"
   ]
  },
  {
   "cell_type": "code",
   "execution_count": 165,
   "metadata": {},
   "outputs": [
    {
     "ename": "NameError",
     "evalue": "name 'wt_spec' is not defined",
     "output_type": "error",
     "traceback": [
      "\u001b[0;31m---------------------------------------------------------------------------\u001b[0m",
      "\u001b[0;31mNameError\u001b[0m                                 Traceback (most recent call last)",
      "\u001b[0;32m<ipython-input-165-5ea775475c5d>\u001b[0m in \u001b[0;36m<module>\u001b[0;34m()\u001b[0m\n\u001b[0;32m----> 1\u001b[0;31m \u001b[0mwt_spec\u001b[0m\u001b[0;34m.\u001b[0m\u001b[0mdescribe\u001b[0m\u001b[0;34m(\u001b[0m\u001b[0;34m)\u001b[0m\u001b[0;34m\u001b[0m\u001b[0m\n\u001b[0m",
      "\u001b[0;31mNameError\u001b[0m: name 'wt_spec' is not defined"
     ]
    }
   ],
   "source": [
    "wt_spec.describe()"
   ]
  },
  {
   "cell_type": "code",
   "execution_count": 166,
   "metadata": {},
   "outputs": [
    {
     "ename": "NameError",
     "evalue": "name 'wt_sens' is not defined",
     "output_type": "error",
     "traceback": [
      "\u001b[0;31m---------------------------------------------------------------------------\u001b[0m",
      "\u001b[0;31mNameError\u001b[0m                                 Traceback (most recent call last)",
      "\u001b[0;32m<ipython-input-166-e3b809fcd0cd>\u001b[0m in \u001b[0;36m<module>\u001b[0;34m()\u001b[0m\n\u001b[0;32m----> 1\u001b[0;31m \u001b[0mwt_sens\u001b[0m\u001b[0;34m.\u001b[0m\u001b[0mdescribe\u001b[0m\u001b[0;34m(\u001b[0m\u001b[0;34m)\u001b[0m\u001b[0;34m\u001b[0m\u001b[0m\n\u001b[0m",
      "\u001b[0;31mNameError\u001b[0m: name 'wt_sens' is not defined"
     ]
    }
   ],
   "source": [
    "wt_sens.describe()"
   ]
  },
  {
   "cell_type": "code",
   "execution_count": 167,
   "metadata": {},
   "outputs": [
    {
     "ename": "NameError",
     "evalue": "name 'wt_spec' is not defined",
     "output_type": "error",
     "traceback": [
      "\u001b[0;31m---------------------------------------------------------------------------\u001b[0m",
      "\u001b[0;31mNameError\u001b[0m                                 Traceback (most recent call last)",
      "\u001b[0;32m<ipython-input-167-53998e8890dc>\u001b[0m in \u001b[0;36m<module>\u001b[0;34m()\u001b[0m\n\u001b[1;32m      1\u001b[0m \u001b[0;31m# create Series for mean of specificity and sensitivity\u001b[0m\u001b[0;34m\u001b[0m\u001b[0;34m\u001b[0m\u001b[0m\n\u001b[0;32m----> 2\u001b[0;31m \u001b[0mwtsp_m\u001b[0m \u001b[0;34m=\u001b[0m \u001b[0mwt_spec\u001b[0m\u001b[0;34m.\u001b[0m\u001b[0mmean\u001b[0m\u001b[0;34m(\u001b[0m\u001b[0;34m)\u001b[0m\u001b[0;34m.\u001b[0m\u001b[0mround\u001b[0m\u001b[0;34m(\u001b[0m\u001b[0mdecimals\u001b[0m\u001b[0;34m=\u001b[0m\u001b[0;36m3\u001b[0m\u001b[0;34m)\u001b[0m\u001b[0;34m\u001b[0m\u001b[0m\n\u001b[0m\u001b[1;32m      3\u001b[0m \u001b[0mwtse_m\u001b[0m \u001b[0;34m=\u001b[0m \u001b[0mwt_sens\u001b[0m\u001b[0;34m.\u001b[0m\u001b[0mmean\u001b[0m\u001b[0;34m(\u001b[0m\u001b[0;34m)\u001b[0m\u001b[0;34m.\u001b[0m\u001b[0mround\u001b[0m\u001b[0;34m(\u001b[0m\u001b[0mdecimals\u001b[0m\u001b[0;34m=\u001b[0m\u001b[0;36m3\u001b[0m\u001b[0;34m)\u001b[0m\u001b[0;34m\u001b[0m\u001b[0m\n\u001b[1;32m      4\u001b[0m \u001b[0mwtse_m\u001b[0m\u001b[0;34m\u001b[0m\u001b[0m\n",
      "\u001b[0;31mNameError\u001b[0m: name 'wt_spec' is not defined"
     ]
    }
   ],
   "source": [
    "# create Series for mean of specificity and sensitivity\n",
    "wtsp_m = wt_spec.mean().round(decimals=3)\n",
    "wtse_m = wt_sens.mean().round(decimals=3)\n",
    "wtse_m"
   ]
  },
  {
   "cell_type": "code",
   "execution_count": 168,
   "metadata": {},
   "outputs": [
    {
     "ename": "NameError",
     "evalue": "name 'wtsp_m' is not defined",
     "output_type": "error",
     "traceback": [
      "\u001b[0;31m---------------------------------------------------------------------------\u001b[0m",
      "\u001b[0;31mNameError\u001b[0m                                 Traceback (most recent call last)",
      "\u001b[0;32m<ipython-input-168-bbe0338f356f>\u001b[0m in \u001b[0;36m<module>\u001b[0;34m()\u001b[0m\n\u001b[1;32m      1\u001b[0m \u001b[0;31m# assemble Series to a single dataframe and rename the columns\u001b[0m\u001b[0;34m\u001b[0m\u001b[0;34m\u001b[0m\u001b[0m\n\u001b[0;32m----> 2\u001b[0;31m \u001b[0mwt_plt\u001b[0m \u001b[0;34m=\u001b[0m \u001b[0mpandas\u001b[0m\u001b[0;34m.\u001b[0m\u001b[0mconcat\u001b[0m\u001b[0;34m(\u001b[0m\u001b[0;34m[\u001b[0m\u001b[0mwtsp_m\u001b[0m\u001b[0;34m,\u001b[0m \u001b[0mwtse_m\u001b[0m\u001b[0;34m]\u001b[0m\u001b[0;34m,\u001b[0m \u001b[0maxis\u001b[0m\u001b[0;34m=\u001b[0m\u001b[0;36m1\u001b[0m\u001b[0;34m,\u001b[0m \u001b[0msort\u001b[0m\u001b[0;34m=\u001b[0m\u001b[0;32mTrue\u001b[0m\u001b[0;34m)\u001b[0m\u001b[0;34m\u001b[0m\u001b[0m\n\u001b[0m\u001b[1;32m      3\u001b[0m \u001b[0mwt_plt\u001b[0m \u001b[0;34m=\u001b[0m \u001b[0mwt_plt\u001b[0m\u001b[0;34m.\u001b[0m\u001b[0mrename\u001b[0m\u001b[0;34m(\u001b[0m\u001b[0;34m{\u001b[0m\u001b[0;36m0\u001b[0m\u001b[0;34m:\u001b[0m \u001b[0;34m'Specificity'\u001b[0m\u001b[0;34m,\u001b[0m \u001b[0;36m1\u001b[0m\u001b[0;34m:\u001b[0m\u001b[0;34m'Sensitivity'\u001b[0m\u001b[0;34m}\u001b[0m\u001b[0;34m,\u001b[0m \u001b[0maxis\u001b[0m\u001b[0;34m=\u001b[0m\u001b[0;36m1\u001b[0m\u001b[0;34m)\u001b[0m\u001b[0;34m\u001b[0m\u001b[0m\n\u001b[1;32m      4\u001b[0m \u001b[0;31m# define some colors for the plots\u001b[0m\u001b[0;34m\u001b[0m\u001b[0;34m\u001b[0m\u001b[0m\n\u001b[1;32m      5\u001b[0m \u001b[0mcolors\u001b[0m \u001b[0;34m=\u001b[0m \u001b[0;34m[\u001b[0m\u001b[0;34m'red'\u001b[0m\u001b[0;34m,\u001b[0m\u001b[0;34m'green'\u001b[0m\u001b[0;34m,\u001b[0m\u001b[0;34m'blue'\u001b[0m\u001b[0;34m,\u001b[0m \u001b[0;34m'aqua'\u001b[0m\u001b[0;34m,\u001b[0m\u001b[0;34m'gold'\u001b[0m\u001b[0;34m,\u001b[0m\u001b[0;34m'fuchsia'\u001b[0m\u001b[0;34m,\u001b[0m \u001b[0;34m'indigo'\u001b[0m\u001b[0;34m,\u001b[0m\u001b[0;34m'lavender'\u001b[0m\u001b[0;34m,\u001b[0m\u001b[0;34m'orange'\u001b[0m\u001b[0;34m,\u001b[0m \u001b[0;34m'sienna'\u001b[0m\u001b[0;34m,\u001b[0m\u001b[0;34m'teal'\u001b[0m\u001b[0;34m,\u001b[0m\u001b[0;34m'plum'\u001b[0m\u001b[0;34m]\u001b[0m\u001b[0;34m\u001b[0m\u001b[0m\n",
      "\u001b[0;31mNameError\u001b[0m: name 'wtsp_m' is not defined"
     ]
    }
   ],
   "source": [
    "# assemble Series to a single dataframe and rename the columns\n",
    "wt_plt = pandas.concat([wtsp_m, wtse_m], axis=1, sort=True)\n",
    "wt_plt = wt_plt.rename({0: 'Specificity', 1:'Sensitivity'}, axis=1)\n",
    "# define some colors for the plots\n",
    "colors = ['red','green','blue', 'aqua','gold','fuchsia', 'indigo','lavender','orange', 'sienna','teal','plum']\n",
    "# plot sensitivity vs specificity \n",
    "ax = wt_plt.plot.scatter(x=0, y=1, c=colors, marker='s')\n",
    "for i, txt in enumerate(wt_plt.index):\n",
    "    ax.annotate(txt, (wt_plt.Specificity.iat[i],wt_plt.Sensitivity.iat[i]))\n",
    "ax.grid(True)\n",
    "ax.set_title('Whole Tumor Specificity vs Sensitivity')\n",
    "ax.figure.savefig('wt_sesp.png', format=form, dpi=res)\n",
    "#ax.annotate('aca', wt_plt[0][0], wt_plt[1][0])"
   ]
  },
  {
   "cell_type": "code",
   "execution_count": 169,
   "metadata": {},
   "outputs": [
    {
     "ename": "NameError",
     "evalue": "name 'tc_spec' is not defined",
     "output_type": "error",
     "traceback": [
      "\u001b[0;31m---------------------------------------------------------------------------\u001b[0m",
      "\u001b[0;31mNameError\u001b[0m                                 Traceback (most recent call last)",
      "\u001b[0;32m<ipython-input-169-41cbf5dbf6ab>\u001b[0m in \u001b[0;36m<module>\u001b[0;34m()\u001b[0m\n\u001b[0;32m----> 1\u001b[0;31m \u001b[0mtcsp_m\u001b[0m \u001b[0;34m=\u001b[0m \u001b[0mtc_spec\u001b[0m\u001b[0;34m.\u001b[0m\u001b[0mmean\u001b[0m\u001b[0;34m(\u001b[0m\u001b[0;34m)\u001b[0m\u001b[0;34m.\u001b[0m\u001b[0mround\u001b[0m\u001b[0;34m(\u001b[0m\u001b[0mdecimals\u001b[0m\u001b[0;34m=\u001b[0m\u001b[0;36m3\u001b[0m\u001b[0;34m)\u001b[0m\u001b[0;34m\u001b[0m\u001b[0m\n\u001b[0m\u001b[1;32m      2\u001b[0m \u001b[0mtcse_m\u001b[0m \u001b[0;34m=\u001b[0m \u001b[0mtc_sens\u001b[0m\u001b[0;34m.\u001b[0m\u001b[0mmean\u001b[0m\u001b[0;34m(\u001b[0m\u001b[0;34m)\u001b[0m\u001b[0;34m.\u001b[0m\u001b[0mround\u001b[0m\u001b[0;34m(\u001b[0m\u001b[0mdecimals\u001b[0m\u001b[0;34m=\u001b[0m\u001b[0;36m3\u001b[0m\u001b[0;34m)\u001b[0m\u001b[0;34m\u001b[0m\u001b[0m\n\u001b[1;32m      3\u001b[0m \u001b[0mtc_plt\u001b[0m \u001b[0;34m=\u001b[0m \u001b[0mpandas\u001b[0m\u001b[0;34m.\u001b[0m\u001b[0mconcat\u001b[0m\u001b[0;34m(\u001b[0m\u001b[0;34m[\u001b[0m\u001b[0mtcsp_m\u001b[0m\u001b[0;34m,\u001b[0m \u001b[0mtcse_m\u001b[0m\u001b[0;34m]\u001b[0m\u001b[0;34m,\u001b[0m \u001b[0maxis\u001b[0m\u001b[0;34m=\u001b[0m\u001b[0;36m1\u001b[0m\u001b[0;34m,\u001b[0m \u001b[0msort\u001b[0m\u001b[0;34m=\u001b[0m\u001b[0;32mTrue\u001b[0m\u001b[0;34m)\u001b[0m\u001b[0;34m\u001b[0m\u001b[0m\n\u001b[1;32m      4\u001b[0m \u001b[0mtc_plt\u001b[0m \u001b[0;34m=\u001b[0m \u001b[0mtc_plt\u001b[0m\u001b[0;34m.\u001b[0m\u001b[0mrename\u001b[0m\u001b[0;34m(\u001b[0m\u001b[0;34m{\u001b[0m\u001b[0;36m0\u001b[0m\u001b[0;34m:\u001b[0m \u001b[0;34m'Specificity'\u001b[0m\u001b[0;34m,\u001b[0m \u001b[0;36m1\u001b[0m\u001b[0;34m:\u001b[0m\u001b[0;34m'Sensitivity'\u001b[0m\u001b[0;34m}\u001b[0m\u001b[0;34m,\u001b[0m \u001b[0maxis\u001b[0m\u001b[0;34m=\u001b[0m\u001b[0;36m1\u001b[0m\u001b[0;34m)\u001b[0m\u001b[0;34m\u001b[0m\u001b[0m\n\u001b[1;32m      5\u001b[0m \u001b[0mcolors\u001b[0m \u001b[0;34m=\u001b[0m \u001b[0;34m[\u001b[0m\u001b[0;34m'red'\u001b[0m\u001b[0;34m,\u001b[0m\u001b[0;34m'green'\u001b[0m\u001b[0;34m,\u001b[0m\u001b[0;34m'blue'\u001b[0m\u001b[0;34m,\u001b[0m \u001b[0;34m'aqua'\u001b[0m\u001b[0;34m,\u001b[0m\u001b[0;34m'gold'\u001b[0m\u001b[0;34m,\u001b[0m\u001b[0;34m'fuchsia'\u001b[0m\u001b[0;34m,\u001b[0m \u001b[0;34m'indigo'\u001b[0m\u001b[0;34m,\u001b[0m\u001b[0;34m'lavender'\u001b[0m\u001b[0;34m,\u001b[0m\u001b[0;34m'orange'\u001b[0m\u001b[0;34m,\u001b[0m \u001b[0;34m'sienna'\u001b[0m\u001b[0;34m,\u001b[0m\u001b[0;34m'teal'\u001b[0m\u001b[0;34m,\u001b[0m\u001b[0;34m'plum'\u001b[0m\u001b[0;34m]\u001b[0m\u001b[0;34m\u001b[0m\u001b[0m\n",
      "\u001b[0;31mNameError\u001b[0m: name 'tc_spec' is not defined"
     ]
    }
   ],
   "source": [
    "tcsp_m = tc_spec.mean().round(decimals=3)\n",
    "tcse_m = tc_sens.mean().round(decimals=3)\n",
    "tc_plt = pandas.concat([tcsp_m, tcse_m], axis=1, sort=True)\n",
    "tc_plt = tc_plt.rename({0: 'Specificity', 1:'Sensitivity'}, axis=1)\n",
    "colors = ['red','green','blue', 'aqua','gold','fuchsia', 'indigo','lavender','orange', 'sienna','teal','plum']\n",
    "ax = tc_plt.plot.scatter(x=0, y=1, c=colors, marker='s')\n",
    "for i, txt in enumerate(tc_plt.index):\n",
    "    ax.annotate(txt, (tc_plt.Specificity.iat[i],tc_plt.Sensitivity.iat[i]))\n",
    "ax.grid(True)\n",
    "ax.set_title('Tumor Core Specificity vs Sensitivity')\n",
    "ax.figure.savefig('tc_sesp.png', format=form, dpi=res)"
   ]
  },
  {
   "cell_type": "code",
   "execution_count": 170,
   "metadata": {},
   "outputs": [
    {
     "ename": "NameError",
     "evalue": "name 'at_spec' is not defined",
     "output_type": "error",
     "traceback": [
      "\u001b[0;31m---------------------------------------------------------------------------\u001b[0m",
      "\u001b[0;31mNameError\u001b[0m                                 Traceback (most recent call last)",
      "\u001b[0;32m<ipython-input-170-74772bd03961>\u001b[0m in \u001b[0;36m<module>\u001b[0;34m()\u001b[0m\n\u001b[0;32m----> 1\u001b[0;31m \u001b[0matsp_m\u001b[0m \u001b[0;34m=\u001b[0m \u001b[0mat_spec\u001b[0m\u001b[0;34m.\u001b[0m\u001b[0mmean\u001b[0m\u001b[0;34m(\u001b[0m\u001b[0;34m)\u001b[0m\u001b[0;34m.\u001b[0m\u001b[0mround\u001b[0m\u001b[0;34m(\u001b[0m\u001b[0mdecimals\u001b[0m\u001b[0;34m=\u001b[0m\u001b[0;36m3\u001b[0m\u001b[0;34m)\u001b[0m\u001b[0;34m\u001b[0m\u001b[0m\n\u001b[0m\u001b[1;32m      2\u001b[0m \u001b[0matse_m\u001b[0m \u001b[0;34m=\u001b[0m \u001b[0mat_sens\u001b[0m\u001b[0;34m.\u001b[0m\u001b[0mmean\u001b[0m\u001b[0;34m(\u001b[0m\u001b[0;34m)\u001b[0m\u001b[0;34m.\u001b[0m\u001b[0mround\u001b[0m\u001b[0;34m(\u001b[0m\u001b[0mdecimals\u001b[0m\u001b[0;34m=\u001b[0m\u001b[0;36m3\u001b[0m\u001b[0;34m)\u001b[0m\u001b[0;34m\u001b[0m\u001b[0m\n\u001b[1;32m      3\u001b[0m \u001b[0mat_plt\u001b[0m \u001b[0;34m=\u001b[0m \u001b[0mpandas\u001b[0m\u001b[0;34m.\u001b[0m\u001b[0mconcat\u001b[0m\u001b[0;34m(\u001b[0m\u001b[0;34m[\u001b[0m\u001b[0matsp_m\u001b[0m\u001b[0;34m,\u001b[0m \u001b[0matse_m\u001b[0m\u001b[0;34m]\u001b[0m\u001b[0;34m,\u001b[0m \u001b[0maxis\u001b[0m\u001b[0;34m=\u001b[0m\u001b[0;36m1\u001b[0m\u001b[0;34m,\u001b[0m \u001b[0msort\u001b[0m\u001b[0;34m=\u001b[0m\u001b[0;32mTrue\u001b[0m\u001b[0;34m)\u001b[0m\u001b[0;34m\u001b[0m\u001b[0m\n\u001b[1;32m      4\u001b[0m \u001b[0mat_plt\u001b[0m \u001b[0;34m=\u001b[0m \u001b[0mat_plt\u001b[0m\u001b[0;34m.\u001b[0m\u001b[0mrename\u001b[0m\u001b[0;34m(\u001b[0m\u001b[0;34m{\u001b[0m\u001b[0;36m0\u001b[0m\u001b[0;34m:\u001b[0m \u001b[0;34m'Specificity'\u001b[0m\u001b[0;34m,\u001b[0m \u001b[0;36m1\u001b[0m\u001b[0;34m:\u001b[0m\u001b[0;34m'Sensitivity'\u001b[0m\u001b[0;34m}\u001b[0m\u001b[0;34m,\u001b[0m \u001b[0maxis\u001b[0m\u001b[0;34m=\u001b[0m\u001b[0;36m1\u001b[0m\u001b[0;34m)\u001b[0m\u001b[0;34m\u001b[0m\u001b[0m\n\u001b[1;32m      5\u001b[0m \u001b[0mcolors\u001b[0m \u001b[0;34m=\u001b[0m \u001b[0;34m[\u001b[0m\u001b[0;34m'red'\u001b[0m\u001b[0;34m,\u001b[0m\u001b[0;34m'green'\u001b[0m\u001b[0;34m,\u001b[0m\u001b[0;34m'blue'\u001b[0m\u001b[0;34m,\u001b[0m \u001b[0;34m'aqua'\u001b[0m\u001b[0;34m,\u001b[0m\u001b[0;34m'gold'\u001b[0m\u001b[0;34m,\u001b[0m\u001b[0;34m'fuchsia'\u001b[0m\u001b[0;34m,\u001b[0m \u001b[0;34m'indigo'\u001b[0m\u001b[0;34m,\u001b[0m\u001b[0;34m'lavender'\u001b[0m\u001b[0;34m,\u001b[0m\u001b[0;34m'orange'\u001b[0m\u001b[0;34m,\u001b[0m \u001b[0;34m'sienna'\u001b[0m\u001b[0;34m,\u001b[0m\u001b[0;34m'teal'\u001b[0m\u001b[0;34m,\u001b[0m\u001b[0;34m'plum'\u001b[0m\u001b[0;34m]\u001b[0m\u001b[0;34m\u001b[0m\u001b[0m\n",
      "\u001b[0;31mNameError\u001b[0m: name 'at_spec' is not defined"
     ]
    }
   ],
   "source": [
    "atsp_m = at_spec.mean().round(decimals=3)\n",
    "atse_m = at_sens.mean().round(decimals=3)\n",
    "at_plt = pandas.concat([atsp_m, atse_m], axis=1, sort=True)\n",
    "at_plt = at_plt.rename({0: 'Specificity', 1:'Sensitivity'}, axis=1)\n",
    "colors = ['red','green','blue', 'aqua','gold','fuchsia', 'indigo','lavender','orange', 'sienna','teal','plum']\n",
    "ax = at_plt.plot.scatter(x=0, y=1, c=colors, marker='s')\n",
    "for i, txt in enumerate(at_plt.index):\n",
    "    ax.annotate(txt, (at_plt.Specificity.iat[i],at_plt.Sensitivity.iat[i]))\n",
    "ax.grid(True)\n",
    "ax.set_title('Active Tumor Specificity vs Sensitivity')\n",
    "ax.figure.savefig('at_sesp.png', format=form, dpi=res)"
   ]
  },
  {
   "cell_type": "code",
   "execution_count": 171,
   "metadata": {},
   "outputs": [
    {
     "ename": "NameError",
     "evalue": "name 'at_spec' is not defined",
     "output_type": "error",
     "traceback": [
      "\u001b[0;31m---------------------------------------------------------------------------\u001b[0m",
      "\u001b[0;31mNameError\u001b[0m                                 Traceback (most recent call last)",
      "\u001b[0;32m<ipython-input-171-32146b465f67>\u001b[0m in \u001b[0;36m<module>\u001b[0;34m()\u001b[0m\n\u001b[1;32m      1\u001b[0m \u001b[0;31m#once again but with MEDIAN\u001b[0m\u001b[0;34m\u001b[0m\u001b[0;34m\u001b[0m\u001b[0m\n\u001b[0;32m----> 2\u001b[0;31m \u001b[0matsp_m\u001b[0m \u001b[0;34m=\u001b[0m \u001b[0mat_spec\u001b[0m\u001b[0;34m.\u001b[0m\u001b[0mmedian\u001b[0m\u001b[0;34m(\u001b[0m\u001b[0;34m)\u001b[0m\u001b[0;34m.\u001b[0m\u001b[0mround\u001b[0m\u001b[0;34m(\u001b[0m\u001b[0mdecimals\u001b[0m\u001b[0;34m=\u001b[0m\u001b[0;36m3\u001b[0m\u001b[0;34m)\u001b[0m\u001b[0;34m\u001b[0m\u001b[0m\n\u001b[0m\u001b[1;32m      3\u001b[0m \u001b[0matse_m\u001b[0m \u001b[0;34m=\u001b[0m \u001b[0mat_sens\u001b[0m\u001b[0;34m.\u001b[0m\u001b[0mmedian\u001b[0m\u001b[0;34m(\u001b[0m\u001b[0;34m)\u001b[0m\u001b[0;34m.\u001b[0m\u001b[0mround\u001b[0m\u001b[0;34m(\u001b[0m\u001b[0mdecimals\u001b[0m\u001b[0;34m=\u001b[0m\u001b[0;36m3\u001b[0m\u001b[0;34m)\u001b[0m\u001b[0;34m\u001b[0m\u001b[0m\n\u001b[1;32m      4\u001b[0m \u001b[0mat_plt\u001b[0m \u001b[0;34m=\u001b[0m \u001b[0mpandas\u001b[0m\u001b[0;34m.\u001b[0m\u001b[0mconcat\u001b[0m\u001b[0;34m(\u001b[0m\u001b[0;34m[\u001b[0m\u001b[0matsp_m\u001b[0m\u001b[0;34m,\u001b[0m \u001b[0matse_m\u001b[0m\u001b[0;34m]\u001b[0m\u001b[0;34m,\u001b[0m \u001b[0maxis\u001b[0m\u001b[0;34m=\u001b[0m\u001b[0;36m1\u001b[0m\u001b[0;34m,\u001b[0m \u001b[0msort\u001b[0m\u001b[0;34m=\u001b[0m\u001b[0;32mTrue\u001b[0m\u001b[0;34m)\u001b[0m\u001b[0;34m\u001b[0m\u001b[0m\n\u001b[1;32m      5\u001b[0m \u001b[0mat_plt\u001b[0m \u001b[0;34m=\u001b[0m \u001b[0mat_plt\u001b[0m\u001b[0;34m.\u001b[0m\u001b[0mrename\u001b[0m\u001b[0;34m(\u001b[0m\u001b[0;34m{\u001b[0m\u001b[0;36m0\u001b[0m\u001b[0;34m:\u001b[0m \u001b[0;34m'Specificity'\u001b[0m\u001b[0;34m,\u001b[0m \u001b[0;36m1\u001b[0m\u001b[0;34m:\u001b[0m\u001b[0;34m'Sensitivity'\u001b[0m\u001b[0;34m}\u001b[0m\u001b[0;34m,\u001b[0m \u001b[0maxis\u001b[0m\u001b[0;34m=\u001b[0m\u001b[0;36m1\u001b[0m\u001b[0;34m)\u001b[0m\u001b[0;34m\u001b[0m\u001b[0m\n",
      "\u001b[0;31mNameError\u001b[0m: name 'at_spec' is not defined"
     ]
    }
   ],
   "source": [
    "#once again but with MEDIAN \n",
    "atsp_m = at_spec.median().round(decimals=3)\n",
    "atse_m = at_sens.median().round(decimals=3)\n",
    "at_plt = pandas.concat([atsp_m, atse_m], axis=1, sort=True)\n",
    "at_plt = at_plt.rename({0: 'Specificity', 1:'Sensitivity'}, axis=1)\n",
    "colors = ['red','green','blue', 'aqua','gold','fuchsia', 'indigo','lavender','orange', 'sienna','teal','plum']\n",
    "ax = at_plt.plot.scatter(x=0, y=1, c=colors, marker='s')\n",
    "for i, txt in enumerate(at_plt.index):\n",
    "    ax.annotate(txt, (at_plt.Specificity.iat[i],at_plt.Sensitivity.iat[i]))\n",
    "ax.grid(True)\n",
    "ax.set_title('Active Tumor Specificity vs Sensitivity')"
   ]
  },
  {
   "cell_type": "code",
   "execution_count": 172,
   "metadata": {},
   "outputs": [
    {
     "ename": "NameError",
     "evalue": "name 'at_plt' is not defined",
     "output_type": "error",
     "traceback": [
      "\u001b[0;31m---------------------------------------------------------------------------\u001b[0m",
      "\u001b[0;31mNameError\u001b[0m                                 Traceback (most recent call last)",
      "\u001b[0;32m<ipython-input-172-b312555996ab>\u001b[0m in \u001b[0;36m<module>\u001b[0;34m()\u001b[0m\n\u001b[0;32m----> 1\u001b[0;31m \u001b[0msens\u001b[0m \u001b[0;34m=\u001b[0m \u001b[0mat_plt\u001b[0m\u001b[0;34m.\u001b[0m\u001b[0mplot\u001b[0m\u001b[0;34m(\u001b[0m\u001b[0my\u001b[0m\u001b[0;34m=\u001b[0m\u001b[0;34m'Sensitivity'\u001b[0m\u001b[0;34m,\u001b[0m \u001b[0mkind\u001b[0m\u001b[0;34m=\u001b[0m\u001b[0;34m'bar'\u001b[0m\u001b[0;34m)\u001b[0m\u001b[0;34m\u001b[0m\u001b[0m\n\u001b[0m",
      "\u001b[0;31mNameError\u001b[0m: name 'at_plt' is not defined"
     ]
    }
   ],
   "source": [
    "sens = at_plt.plot(y='Sensitivity', kind='bar')"
   ]
  },
  {
   "cell_type": "code",
   "execution_count": null,
   "metadata": {},
   "outputs": [],
   "source": []
  },
  {
   "cell_type": "code",
   "execution_count": null,
   "metadata": {},
   "outputs": [],
   "source": []
  }
 ],
 "metadata": {
  "kernelspec": {
   "display_name": "Python 3",
   "language": "python",
   "name": "python3"
  },
  "language_info": {
   "codemirror_mode": {
    "name": "ipython",
    "version": 3
   },
   "file_extension": ".py",
   "mimetype": "text/x-python",
   "name": "python",
   "nbconvert_exporter": "python",
   "pygments_lexer": "ipython3",
   "version": "3.7.0"
  }
 },
 "nbformat": 4,
 "nbformat_minor": 2
}
